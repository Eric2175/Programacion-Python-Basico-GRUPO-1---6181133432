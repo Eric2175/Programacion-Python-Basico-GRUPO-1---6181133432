{
  "cells": [
    {
      "cell_type": "markdown",
      "id": "a62202dd",
      "metadata": {
        "id": "a62202dd"
      },
      "source": [
        "# Estudio de emisiones de Dioxido de Carbono"
      ]
    },
    {
      "cell_type": "markdown",
      "id": "8026dfad",
      "metadata": {},
      "source": [
        "# Estudiante: Eric Ricardo Padilla Mora."
      ]
    },
    {
      "cell_type": "markdown",
      "id": "98d6cc2c",
      "metadata": {
        "id": "98d6cc2c"
      },
      "source": [
        "## Objetivo"
      ]
    },
    {
      "cell_type": "markdown",
      "id": "f6e5f5ed",
      "metadata": {
        "id": "f6e5f5ed"
      },
      "source": [
        "Cargar un archivo 'Carbon_Dioxide_Emission_Estimates.csv' responder las siguientes preguntas"
      ]
    },
    {
      "cell_type": "markdown",
      "id": "e21e6b1c",
      "metadata": {
        "id": "e21e6b1c"
      },
      "source": [
        "## Contexto\n"
      ]
    },
    {
      "cell_type": "markdown",
      "id": "c4c7df65",
      "metadata": {
        "id": "c4c7df65"
      },
      "source": [
        "Se tiene un set de datos contenido en un archivo del tipo csv.\n",
        "\n",
        "El archivo es 'Carbon_Dioxide_Emission_Estimates.csv'.\n",
        "\n",
        "A continuación se presenta el paso cero para leer del archivo que contiene 2 tipos de filas según sea el valor en la columna 'Type':\n",
        "\n",
        "- Emissions_thousand__metric_tons_of_carbon_dioxide\n",
        "- Emissions_per_capita__metric_tons_of_carbon_dioxide\n",
        "\n",
        "El valor de las emisiones están en medidas de Toneladas métricas de Dióxido de Carbono"
      ]
    },
    {
      "cell_type": "markdown",
      "id": "352UFM-aEWCT",
      "metadata": {
        "id": "352UFM-aEWCT"
      },
      "source": [
        "# Pregunta 0\n",
        "\n",
        "1. Crear un dataframe con el nombre de variable 'df_emisions_co2' usando únicamente las filas cuya columna 'Type' tiene el valor 'Emissions (thousand metric tons of carbon dioxide)'\n",
        "\n",
        "2. Crear un dataframe con el nombre de variable 'df_emisions_co2_per_capita' usando únicamente las filas cuya columna 'Type' tiene el valor Emissions per capita (metric tons of carbon dioxide)"
      ]
    },
    {
      "cell_type": "markdown",
      "id": "d6bd6661",
      "metadata": {
        "id": "d6bd6661"
      },
      "source": [
        "# Pregunta 1"
      ]
    },
    {
      "cell_type": "markdown",
      "id": "3299b6b5",
      "metadata": {
        "id": "3299b6b5"
      },
      "source": [
        "Cuántas filas tiene el dataframe 'df_emisions_co2'?"
      ]
    },
    {
      "cell_type": "code",
      "execution_count": 276,
      "id": "f02d60cc",
      "metadata": {
        "id": "f02d60cc"
      },
      "outputs": [
        {
          "data": {
            "application/vnd.microsoft.datawrangler.viewer.v0+json": {
              "columns": [
                {
                  "name": "index",
                  "rawType": "int64",
                  "type": "integer"
                },
                {
                  "name": "Country",
                  "rawType": "object",
                  "type": "string"
                },
                {
                  "name": "Year",
                  "rawType": "int64",
                  "type": "integer"
                },
                {
                  "name": "Type",
                  "rawType": "object",
                  "type": "string"
                },
                {
                  "name": "Value",
                  "rawType": "float64",
                  "type": "float"
                }
              ],
              "conversionMethod": "pd.DataFrame",
              "ref": "64758318-f322-49a3-9c27-119783800d37",
              "rows": [
                [
                  "0",
                  "Albania",
                  "1975",
                  "Emissions (thousand metric tons of carbon dioxide)",
                  "4338.334"
                ],
                [
                  "1",
                  "Albania",
                  "1985",
                  "Emissions (thousand metric tons of carbon dioxide)",
                  "6929.926"
                ],
                [
                  "2",
                  "Albania",
                  "1995",
                  "Emissions (thousand metric tons of carbon dioxide)",
                  "1848.549"
                ],
                [
                  "3",
                  "Albania",
                  "2005",
                  "Emissions (thousand metric tons of carbon dioxide)",
                  "3825.184"
                ],
                [
                  "4",
                  "Albania",
                  "2010",
                  "Emissions (thousand metric tons of carbon dioxide)",
                  "3930.295"
                ],
                [
                  "5",
                  "Albania",
                  "2015",
                  "Emissions (thousand metric tons of carbon dioxide)",
                  "3824.801"
                ],
                [
                  "6",
                  "Albania",
                  "2016",
                  "Emissions (thousand metric tons of carbon dioxide)",
                  "3674.183"
                ],
                [
                  "7",
                  "Albania",
                  "2017",
                  "Emissions (thousand metric tons of carbon dioxide)",
                  "4342.011"
                ],
                [
                  "16",
                  "Algeria",
                  "1975",
                  "Emissions (thousand metric tons of carbon dioxide)",
                  "13552.694"
                ],
                [
                  "17",
                  "Algeria",
                  "1985",
                  "Emissions (thousand metric tons of carbon dioxide)",
                  "42073.253"
                ],
                [
                  "18",
                  "Algeria",
                  "1995",
                  "Emissions (thousand metric tons of carbon dioxide)",
                  "55336.862"
                ],
                [
                  "19",
                  "Algeria",
                  "2005",
                  "Emissions (thousand metric tons of carbon dioxide)",
                  "77474.13"
                ],
                [
                  "20",
                  "Algeria",
                  "2010",
                  "Emissions (thousand metric tons of carbon dioxide)",
                  "95535.489"
                ],
                [
                  "21",
                  "Algeria",
                  "2015",
                  "Emissions (thousand metric tons of carbon dioxide)",
                  "130426.655"
                ],
                [
                  "22",
                  "Algeria",
                  "2016",
                  "Emissions (thousand metric tons of carbon dioxide)",
                  "127640.064"
                ],
                [
                  "23",
                  "Algeria",
                  "2017",
                  "Emissions (thousand metric tons of carbon dioxide)",
                  "130493.653"
                ],
                [
                  "32",
                  "Angola",
                  "1975",
                  "Emissions (thousand metric tons of carbon dioxide)",
                  "1955.802"
                ],
                [
                  "33",
                  "Angola",
                  "1985",
                  "Emissions (thousand metric tons of carbon dioxide)",
                  "2817.595"
                ],
                [
                  "34",
                  "Angola",
                  "1995",
                  "Emissions (thousand metric tons of carbon dioxide)",
                  "3913.613"
                ],
                [
                  "35",
                  "Angola",
                  "2005",
                  "Emissions (thousand metric tons of carbon dioxide)",
                  "6146.691"
                ],
                [
                  "36",
                  "Angola",
                  "2010",
                  "Emissions (thousand metric tons of carbon dioxide)",
                  "15151.684"
                ],
                [
                  "37",
                  "Angola",
                  "2015",
                  "Emissions (thousand metric tons of carbon dioxide)",
                  "21532.32"
                ],
                [
                  "38",
                  "Angola",
                  "2016",
                  "Emissions (thousand metric tons of carbon dioxide)",
                  "21458.342"
                ],
                [
                  "39",
                  "Angola",
                  "2017",
                  "Emissions (thousand metric tons of carbon dioxide)",
                  "18021.394"
                ],
                [
                  "48",
                  "Argentina",
                  "1975",
                  "Emissions (thousand metric tons of carbon dioxide)",
                  "85231.756"
                ],
                [
                  "49",
                  "Argentina",
                  "1985",
                  "Emissions (thousand metric tons of carbon dioxide)",
                  "87779.28"
                ],
                [
                  "50",
                  "Argentina",
                  "1995",
                  "Emissions (thousand metric tons of carbon dioxide)",
                  "117327.938"
                ],
                [
                  "51",
                  "Argentina",
                  "2005",
                  "Emissions (thousand metric tons of carbon dioxide)",
                  "149476.04"
                ],
                [
                  "52",
                  "Argentina",
                  "2010",
                  "Emissions (thousand metric tons of carbon dioxide)",
                  "173768.538"
                ],
                [
                  "53",
                  "Argentina",
                  "2015",
                  "Emissions (thousand metric tons of carbon dioxide)",
                  "190384.899"
                ],
                [
                  "54",
                  "Argentina",
                  "2016",
                  "Emissions (thousand metric tons of carbon dioxide)",
                  "190512.04"
                ],
                [
                  "55",
                  "Argentina",
                  "2017",
                  "Emissions (thousand metric tons of carbon dioxide)",
                  "183375.203"
                ],
                [
                  "64",
                  "Armenia",
                  "1995",
                  "Emissions (thousand metric tons of carbon dioxide)",
                  "3368.027"
                ],
                [
                  "65",
                  "Armenia",
                  "2005",
                  "Emissions (thousand metric tons of carbon dioxide)",
                  "4129.845"
                ],
                [
                  "66",
                  "Armenia",
                  "2010",
                  "Emissions (thousand metric tons of carbon dioxide)",
                  "4048.253"
                ],
                [
                  "67",
                  "Armenia",
                  "2015",
                  "Emissions (thousand metric tons of carbon dioxide)",
                  "4702.13"
                ],
                [
                  "68",
                  "Armenia",
                  "2016",
                  "Emissions (thousand metric tons of carbon dioxide)",
                  "4833.071"
                ],
                [
                  "69",
                  "Armenia",
                  "2017",
                  "Emissions (thousand metric tons of carbon dioxide)",
                  "5165.593"
                ],
                [
                  "76",
                  "Australia",
                  "1975",
                  "Emissions (thousand metric tons of carbon dioxide)",
                  "179467.397"
                ],
                [
                  "77",
                  "Australia",
                  "1985",
                  "Emissions (thousand metric tons of carbon dioxide)",
                  "220128.059"
                ],
                [
                  "78",
                  "Australia",
                  "1995",
                  "Emissions (thousand metric tons of carbon dioxide)",
                  "285324.094"
                ],
                [
                  "79",
                  "Australia",
                  "2005",
                  "Emissions (thousand metric tons of carbon dioxide)",
                  "365515.118"
                ],
                [
                  "80",
                  "Australia",
                  "2010",
                  "Emissions (thousand metric tons of carbon dioxide)",
                  "383618.673"
                ],
                [
                  "81",
                  "Australia",
                  "2015",
                  "Emissions (thousand metric tons of carbon dioxide)",
                  "373846.773"
                ],
                [
                  "82",
                  "Australia",
                  "2016",
                  "Emissions (thousand metric tons of carbon dioxide)",
                  "381878.629"
                ],
                [
                  "83",
                  "Australia",
                  "2017",
                  "Emissions (thousand metric tons of carbon dioxide)",
                  "384583.857"
                ],
                [
                  "92",
                  "Austria",
                  "1975",
                  "Emissions (thousand metric tons of carbon dioxide)",
                  "49488.796"
                ],
                [
                  "93",
                  "Austria",
                  "1985",
                  "Emissions (thousand metric tons of carbon dioxide)",
                  "52649.019"
                ],
                [
                  "94",
                  "Austria",
                  "1995",
                  "Emissions (thousand metric tons of carbon dioxide)",
                  "59549.049"
                ],
                [
                  "95",
                  "Austria",
                  "2005",
                  "Emissions (thousand metric tons of carbon dioxide)",
                  "74764.026"
                ]
              ],
              "shape": {
                "columns": 4,
                "rows": 1066
              }
            },
            "text/html": [
              "<div>\n",
              "<style scoped>\n",
              "    .dataframe tbody tr th:only-of-type {\n",
              "        vertical-align: middle;\n",
              "    }\n",
              "\n",
              "    .dataframe tbody tr th {\n",
              "        vertical-align: top;\n",
              "    }\n",
              "\n",
              "    .dataframe thead th {\n",
              "        text-align: right;\n",
              "    }\n",
              "</style>\n",
              "<table border=\"1\" class=\"dataframe\">\n",
              "  <thead>\n",
              "    <tr style=\"text-align: right;\">\n",
              "      <th></th>\n",
              "      <th>Country</th>\n",
              "      <th>Year</th>\n",
              "      <th>Type</th>\n",
              "      <th>Value</th>\n",
              "    </tr>\n",
              "  </thead>\n",
              "  <tbody>\n",
              "    <tr>\n",
              "      <th>0</th>\n",
              "      <td>Albania</td>\n",
              "      <td>1975</td>\n",
              "      <td>Emissions (thousand metric tons of c...</td>\n",
              "      <td>4,338</td>\n",
              "    </tr>\n",
              "    <tr>\n",
              "      <th>1</th>\n",
              "      <td>Albania</td>\n",
              "      <td>1985</td>\n",
              "      <td>Emissions (thousand metric tons of c...</td>\n",
              "      <td>6,930</td>\n",
              "    </tr>\n",
              "    <tr>\n",
              "      <th>2</th>\n",
              "      <td>Albania</td>\n",
              "      <td>1995</td>\n",
              "      <td>Emissions (thousand metric tons of c...</td>\n",
              "      <td>1,849</td>\n",
              "    </tr>\n",
              "    <tr>\n",
              "      <th>3</th>\n",
              "      <td>Albania</td>\n",
              "      <td>2005</td>\n",
              "      <td>Emissions (thousand metric tons of c...</td>\n",
              "      <td>3,825</td>\n",
              "    </tr>\n",
              "    <tr>\n",
              "      <th>4</th>\n",
              "      <td>Albania</td>\n",
              "      <td>2010</td>\n",
              "      <td>Emissions (thousand metric tons of c...</td>\n",
              "      <td>3,930</td>\n",
              "    </tr>\n",
              "    <tr>\n",
              "      <th>...</th>\n",
              "      <td>...</td>\n",
              "      <td>...</td>\n",
              "      <td>...</td>\n",
              "      <td>...</td>\n",
              "    </tr>\n",
              "    <tr>\n",
              "      <th>2119</th>\n",
              "      <td>Zimbabwe</td>\n",
              "      <td>2005</td>\n",
              "      <td>Emissions (thousand metric tons of c...</td>\n",
              "      <td>10,273</td>\n",
              "    </tr>\n",
              "    <tr>\n",
              "      <th>2120</th>\n",
              "      <td>Zimbabwe</td>\n",
              "      <td>2010</td>\n",
              "      <td>Emissions (thousand metric tons of c...</td>\n",
              "      <td>9,465</td>\n",
              "    </tr>\n",
              "    <tr>\n",
              "      <th>2121</th>\n",
              "      <td>Zimbabwe</td>\n",
              "      <td>2015</td>\n",
              "      <td>Emissions (thousand metric tons of c...</td>\n",
              "      <td>11,822</td>\n",
              "    </tr>\n",
              "    <tr>\n",
              "      <th>2122</th>\n",
              "      <td>Zimbabwe</td>\n",
              "      <td>2016</td>\n",
              "      <td>Emissions (thousand metric tons of c...</td>\n",
              "      <td>10,369</td>\n",
              "    </tr>\n",
              "    <tr>\n",
              "      <th>2123</th>\n",
              "      <td>Zimbabwe</td>\n",
              "      <td>2017</td>\n",
              "      <td>Emissions (thousand metric tons of c...</td>\n",
              "      <td>9,715</td>\n",
              "    </tr>\n",
              "  </tbody>\n",
              "</table>\n",
              "<p>1066 rows × 4 columns</p>\n",
              "</div>"
            ],
            "text/plain": [
              "       Country  Year                                     Type  Value\n",
              "0      Albania  1975  Emissions (thousand metric tons of c...  4,338\n",
              "1      Albania  1985  Emissions (thousand metric tons of c...  6,930\n",
              "2      Albania  1995  Emissions (thousand metric tons of c...  1,849\n",
              "3      Albania  2005  Emissions (thousand metric tons of c...  3,825\n",
              "4      Albania  2010  Emissions (thousand metric tons of c...  3,930\n",
              "...        ...   ...                                      ...    ...\n",
              "2119  Zimbabwe  2005  Emissions (thousand metric tons of c... 10,273\n",
              "2120  Zimbabwe  2010  Emissions (thousand metric tons of c...  9,465\n",
              "2121  Zimbabwe  2015  Emissions (thousand metric tons of c... 11,822\n",
              "2122  Zimbabwe  2016  Emissions (thousand metric tons of c... 10,369\n",
              "2123  Zimbabwe  2017  Emissions (thousand metric tons of c...  9,715\n",
              "\n",
              "[1066 rows x 4 columns]"
            ]
          },
          "execution_count": 276,
          "metadata": {},
          "output_type": "execute_result"
        }
      ],
      "source": [
        "\"\"\"Se crea el dataframe con el nombre de variable 'df_emisions_co2' usando únicamente las filas cuya columna \n",
        "'Type' tiene el valor 'Emissions (thousand metric tons of carbon dioxide)'\"\"\"\n",
        "# Coloque el código que responda a la pregunta aqui\n",
        "import pandas as pd\n",
        "\n",
        "ruta_archivo_csv =\"Carbon_Dioxide_Emission_Estimates.csv\"\n",
        "df = pd.read_csv(ruta_archivo_csv)\n",
        "\n",
        "df_emisions_co2 = df[df['Type'] == 'Emissions (thousand metric tons of carbon dioxide)']\n",
        "df_emisions_co2"
      ]
    },
    {
      "cell_type": "code",
      "execution_count": 278,
      "id": "36289772",
      "metadata": {},
      "outputs": [
        {
          "data": {
            "application/vnd.microsoft.datawrangler.viewer.v0+json": {
              "columns": [
                {
                  "name": "index",
                  "rawType": "int64",
                  "type": "integer"
                },
                {
                  "name": "Country",
                  "rawType": "object",
                  "type": "string"
                },
                {
                  "name": "Year",
                  "rawType": "int64",
                  "type": "integer"
                },
                {
                  "name": "Type",
                  "rawType": "object",
                  "type": "string"
                },
                {
                  "name": "Value",
                  "rawType": "float64",
                  "type": "float"
                }
              ],
              "conversionMethod": "pd.DataFrame",
              "ref": "5f24f5b9-8493-4b26-a87e-6432d4660073",
              "rows": [
                [
                  "8",
                  "Albania",
                  "1975",
                  "Emissions per capita (metric tons of carbon dioxide)",
                  "1.804"
                ],
                [
                  "9",
                  "Albania",
                  "1985",
                  "Emissions per capita (metric tons of carbon dioxide)",
                  "2.337"
                ],
                [
                  "10",
                  "Albania",
                  "1995",
                  "Emissions per capita (metric tons of carbon dioxide)",
                  "0.58"
                ],
                [
                  "11",
                  "Albania",
                  "2005",
                  "Emissions per capita (metric tons of carbon dioxide)",
                  "1.27"
                ],
                [
                  "12",
                  "Albania",
                  "2010",
                  "Emissions per capita (metric tons of carbon dioxide)",
                  "1.349"
                ],
                [
                  "13",
                  "Albania",
                  "2015",
                  "Emissions per capita (metric tons of carbon dioxide)",
                  "1.328"
                ],
                [
                  "14",
                  "Albania",
                  "2016",
                  "Emissions per capita (metric tons of carbon dioxide)",
                  "1.278"
                ],
                [
                  "15",
                  "Albania",
                  "2017",
                  "Emissions per capita (metric tons of carbon dioxide)",
                  "1.511"
                ],
                [
                  "24",
                  "Algeria",
                  "1975",
                  "Emissions per capita (metric tons of carbon dioxide)",
                  "0.811"
                ],
                [
                  "25",
                  "Algeria",
                  "1985",
                  "Emissions per capita (metric tons of carbon dioxide)",
                  "1.864"
                ],
                [
                  "26",
                  "Algeria",
                  "1995",
                  "Emissions per capita (metric tons of carbon dioxide)",
                  "1.915"
                ],
                [
                  "27",
                  "Algeria",
                  "2005",
                  "Emissions per capita (metric tons of carbon dioxide)",
                  "2.327"
                ],
                [
                  "28",
                  "Algeria",
                  "2010",
                  "Emissions per capita (metric tons of carbon dioxide)",
                  "2.645"
                ],
                [
                  "29",
                  "Algeria",
                  "2015",
                  "Emissions per capita (metric tons of carbon dioxide)",
                  "3.271"
                ],
                [
                  "30",
                  "Algeria",
                  "2016",
                  "Emissions per capita (metric tons of carbon dioxide)",
                  "3.143"
                ],
                [
                  "31",
                  "Algeria",
                  "2017",
                  "Emissions per capita (metric tons of carbon dioxide)",
                  "3.158"
                ],
                [
                  "40",
                  "Angola",
                  "1975",
                  "Emissions per capita (metric tons of carbon dioxide)",
                  "0.255"
                ],
                [
                  "41",
                  "Angola",
                  "1985",
                  "Emissions per capita (metric tons of carbon dioxide)",
                  "0.266"
                ],
                [
                  "42",
                  "Angola",
                  "1995",
                  "Emissions per capita (metric tons of carbon dioxide)",
                  "0.274"
                ],
                [
                  "43",
                  "Angola",
                  "2005",
                  "Emissions per capita (metric tons of carbon dioxide)",
                  "0.314"
                ],
                [
                  "44",
                  "Angola",
                  "2010",
                  "Emissions per capita (metric tons of carbon dioxide)",
                  "0.648"
                ],
                [
                  "45",
                  "Angola",
                  "2015",
                  "Emissions per capita (metric tons of carbon dioxide)",
                  "0.773"
                ],
                [
                  "46",
                  "Angola",
                  "2016",
                  "Emissions per capita (metric tons of carbon dioxide)",
                  "0.745"
                ],
                [
                  "47",
                  "Angola",
                  "2017",
                  "Emissions per capita (metric tons of carbon dioxide)",
                  "0.605"
                ],
                [
                  "56",
                  "Argentina",
                  "1975",
                  "Emissions per capita (metric tons of carbon dioxide)",
                  "3.27"
                ],
                [
                  "57",
                  "Argentina",
                  "1985",
                  "Emissions per capita (metric tons of carbon dioxide)",
                  "2.889"
                ],
                [
                  "58",
                  "Argentina",
                  "1995",
                  "Emissions per capita (metric tons of carbon dioxide)",
                  "3.353"
                ],
                [
                  "59",
                  "Argentina",
                  "2005",
                  "Emissions per capita (metric tons of carbon dioxide)",
                  "3.819"
                ],
                [
                  "60",
                  "Argentina",
                  "2010",
                  "Emissions per capita (metric tons of carbon dioxide)",
                  "4.215"
                ],
                [
                  "61",
                  "Argentina",
                  "2015",
                  "Emissions per capita (metric tons of carbon dioxide)",
                  "4.385"
                ],
                [
                  "62",
                  "Argentina",
                  "2016",
                  "Emissions per capita (metric tons of carbon dioxide)",
                  "4.345"
                ],
                [
                  "63",
                  "Argentina",
                  "2017",
                  "Emissions per capita (metric tons of carbon dioxide)",
                  "4.142"
                ],
                [
                  "70",
                  "Armenia",
                  "1995",
                  "Emissions per capita (metric tons of carbon dioxide)",
                  "1.047"
                ],
                [
                  "71",
                  "Armenia",
                  "2005",
                  "Emissions per capita (metric tons of carbon dioxide)",
                  "1.385"
                ],
                [
                  "72",
                  "Armenia",
                  "2010",
                  "Emissions per capita (metric tons of carbon dioxide)",
                  "1.407"
                ],
                [
                  "73",
                  "Armenia",
                  "2015",
                  "Emissions per capita (metric tons of carbon dioxide)",
                  "1.612"
                ],
                [
                  "74",
                  "Armenia",
                  "2016",
                  "Emissions per capita (metric tons of carbon dioxide)",
                  "1.652"
                ],
                [
                  "75",
                  "Armenia",
                  "2017",
                  "Emissions per capita (metric tons of carbon dioxide)",
                  "1.763"
                ],
                [
                  "84",
                  "Australia",
                  "1975",
                  "Emissions per capita (metric tons of carbon dioxide)",
                  "12.848"
                ],
                [
                  "85",
                  "Australia",
                  "1985",
                  "Emissions per capita (metric tons of carbon dioxide)",
                  "13.943"
                ],
                [
                  "86",
                  "Australia",
                  "1995",
                  "Emissions per capita (metric tons of carbon dioxide)",
                  "15.656"
                ],
                [
                  "87",
                  "Australia",
                  "2005",
                  "Emissions per capita (metric tons of carbon dioxide)",
                  "17.873"
                ],
                [
                  "88",
                  "Australia",
                  "2010",
                  "Emissions per capita (metric tons of carbon dioxide)",
                  "17.412"
                ],
                [
                  "89",
                  "Australia",
                  "2015",
                  "Emissions per capita (metric tons of carbon dioxide)",
                  "15.697"
                ],
                [
                  "90",
                  "Australia",
                  "2016",
                  "Emissions per capita (metric tons of carbon dioxide)",
                  "15.786"
                ],
                [
                  "91",
                  "Australia",
                  "2017",
                  "Emissions per capita (metric tons of carbon dioxide)",
                  "15.632"
                ],
                [
                  "100",
                  "Austria",
                  "1975",
                  "Emissions per capita (metric tons of carbon dioxide)",
                  "6.53"
                ],
                [
                  "101",
                  "Austria",
                  "1985",
                  "Emissions per capita (metric tons of carbon dioxide)",
                  "6.96"
                ],
                [
                  "102",
                  "Austria",
                  "1995",
                  "Emissions per capita (metric tons of carbon dioxide)",
                  "7.492"
                ],
                [
                  "103",
                  "Austria",
                  "2005",
                  "Emissions per capita (metric tons of carbon dioxide)",
                  "9.09"
                ]
              ],
              "shape": {
                "columns": 4,
                "rows": 1066
              }
            },
            "text/html": [
              "<div>\n",
              "<style scoped>\n",
              "    .dataframe tbody tr th:only-of-type {\n",
              "        vertical-align: middle;\n",
              "    }\n",
              "\n",
              "    .dataframe tbody tr th {\n",
              "        vertical-align: top;\n",
              "    }\n",
              "\n",
              "    .dataframe thead th {\n",
              "        text-align: right;\n",
              "    }\n",
              "</style>\n",
              "<table border=\"1\" class=\"dataframe\">\n",
              "  <thead>\n",
              "    <tr style=\"text-align: right;\">\n",
              "      <th></th>\n",
              "      <th>Country</th>\n",
              "      <th>Year</th>\n",
              "      <th>Type</th>\n",
              "      <th>Value</th>\n",
              "    </tr>\n",
              "  </thead>\n",
              "  <tbody>\n",
              "    <tr>\n",
              "      <th>8</th>\n",
              "      <td>Albania</td>\n",
              "      <td>1975</td>\n",
              "      <td>Emissions per capita (metric tons of...</td>\n",
              "      <td>2</td>\n",
              "    </tr>\n",
              "    <tr>\n",
              "      <th>9</th>\n",
              "      <td>Albania</td>\n",
              "      <td>1985</td>\n",
              "      <td>Emissions per capita (metric tons of...</td>\n",
              "      <td>2</td>\n",
              "    </tr>\n",
              "    <tr>\n",
              "      <th>10</th>\n",
              "      <td>Albania</td>\n",
              "      <td>1995</td>\n",
              "      <td>Emissions per capita (metric tons of...</td>\n",
              "      <td>1</td>\n",
              "    </tr>\n",
              "    <tr>\n",
              "      <th>11</th>\n",
              "      <td>Albania</td>\n",
              "      <td>2005</td>\n",
              "      <td>Emissions per capita (metric tons of...</td>\n",
              "      <td>1</td>\n",
              "    </tr>\n",
              "    <tr>\n",
              "      <th>12</th>\n",
              "      <td>Albania</td>\n",
              "      <td>2010</td>\n",
              "      <td>Emissions per capita (metric tons of...</td>\n",
              "      <td>1</td>\n",
              "    </tr>\n",
              "    <tr>\n",
              "      <th>...</th>\n",
              "      <td>...</td>\n",
              "      <td>...</td>\n",
              "      <td>...</td>\n",
              "      <td>...</td>\n",
              "    </tr>\n",
              "    <tr>\n",
              "      <th>2127</th>\n",
              "      <td>Zimbabwe</td>\n",
              "      <td>2005</td>\n",
              "      <td>Emissions per capita (metric tons of...</td>\n",
              "      <td>1</td>\n",
              "    </tr>\n",
              "    <tr>\n",
              "      <th>2128</th>\n",
              "      <td>Zimbabwe</td>\n",
              "      <td>2010</td>\n",
              "      <td>Emissions per capita (metric tons of...</td>\n",
              "      <td>1</td>\n",
              "    </tr>\n",
              "    <tr>\n",
              "      <th>2129</th>\n",
              "      <td>Zimbabwe</td>\n",
              "      <td>2015</td>\n",
              "      <td>Emissions per capita (metric tons of...</td>\n",
              "      <td>1</td>\n",
              "    </tr>\n",
              "    <tr>\n",
              "      <th>2130</th>\n",
              "      <td>Zimbabwe</td>\n",
              "      <td>2016</td>\n",
              "      <td>Emissions per capita (metric tons of...</td>\n",
              "      <td>1</td>\n",
              "    </tr>\n",
              "    <tr>\n",
              "      <th>2131</th>\n",
              "      <td>Zimbabwe</td>\n",
              "      <td>2017</td>\n",
              "      <td>Emissions per capita (metric tons of...</td>\n",
              "      <td>1</td>\n",
              "    </tr>\n",
              "  </tbody>\n",
              "</table>\n",
              "<p>1066 rows × 4 columns</p>\n",
              "</div>"
            ],
            "text/plain": [
              "       Country  Year                                     Type  Value\n",
              "8      Albania  1975  Emissions per capita (metric tons of...      2\n",
              "9      Albania  1985  Emissions per capita (metric tons of...      2\n",
              "10     Albania  1995  Emissions per capita (metric tons of...      1\n",
              "11     Albania  2005  Emissions per capita (metric tons of...      1\n",
              "12     Albania  2010  Emissions per capita (metric tons of...      1\n",
              "...        ...   ...                                      ...    ...\n",
              "2127  Zimbabwe  2005  Emissions per capita (metric tons of...      1\n",
              "2128  Zimbabwe  2010  Emissions per capita (metric tons of...      1\n",
              "2129  Zimbabwe  2015  Emissions per capita (metric tons of...      1\n",
              "2130  Zimbabwe  2016  Emissions per capita (metric tons of...      1\n",
              "2131  Zimbabwe  2017  Emissions per capita (metric tons of...      1\n",
              "\n",
              "[1066 rows x 4 columns]"
            ]
          },
          "execution_count": 278,
          "metadata": {},
          "output_type": "execute_result"
        }
      ],
      "source": [
        "\"\"\"Se crea el dataframe con el nombre de variable 'df_emisions_co2_per_capita' usando únicamente las filas cuya columna \n",
        "'Type' tiene el valor Emissions per capita (metric tons of carbon dioxide)\"\"\"\n",
        "# Coloque el código que responda a la pregunta aqui\n",
        "import pandas as pd\n",
        "\n",
        "ruta_archivo_csv =\"Carbon_Dioxide_Emission_Estimates.csv\"\n",
        "df = pd.read_csv(ruta_archivo_csv)\n",
        "\n",
        "df_emisions_co2_percapita = df[df['Type'] == 'Emissions per capita (metric tons of carbon dioxide)']\n",
        "df_emisions_co2_percapita"
      ]
    },
    {
      "cell_type": "markdown",
      "id": "880f891d",
      "metadata": {
        "id": "880f891d"
      },
      "source": [
        "# Pregunta 2"
      ]
    },
    {
      "cell_type": "markdown",
      "id": "34700c9d",
      "metadata": {
        "id": "34700c9d"
      },
      "source": [
        "Cuál en el valor más alto de emisiones (en general) usando el dataframe 'df_emisions_co2'?"
      ]
    },
    {
      "cell_type": "code",
      "execution_count": 282,
      "id": "24bdf93a",
      "metadata": {
        "id": "24bdf93a"
      },
      "outputs": [
        {
          "name": "stdout",
          "output_type": "stream",
          "text": [
            "-----------------------------------------------------\n",
            "El valor más alto de emisiones al año (en general) usando el dataframe df_emisions_co2 es de: 9257933 toneladas.\n"
          ]
        }
      ],
      "source": [
        "# Coloque el código que responda a la pregunta aqui exactamente lo que se pregunta\n",
        "maximo_emisiones_co2 = df_emisions_co2['Value'].max() \n",
        "\n",
        "maximo = int(maximo_emisiones_co2)\n",
        "print('-----------------------------------------------------')\n",
        "print(f'El valor más alto de emisiones al año (en general) usando el dataframe df_emisions_co2 es de: {maximo} toneladas.')"
      ]
    },
    {
      "cell_type": "markdown",
      "id": "7ebd3621",
      "metadata": {
        "id": "7ebd3621"
      },
      "source": [
        "# Pregunta 3"
      ]
    },
    {
      "cell_type": "markdown",
      "id": "eb81f1c8",
      "metadata": {
        "id": "eb81f1c8"
      },
      "source": [
        "Cuántos países (Countries) hay en el dataframe 'df_emisions_co2'?"
      ]
    },
    {
      "cell_type": "code",
      "execution_count": null,
      "id": "4f60454b",
      "metadata": {
        "id": "4f60454b"
      },
      "outputs": [
        {
          "name": "stdout",
          "output_type": "stream",
          "text": [
            "--------------------------------------------\n",
            "En el dataframe df_emisions_co2 hay un total de 142 países (Estos sin repetir).\n",
            "\n",
            "--------------------------------------------\n",
            "Pero además, en ese mismo dataframe (df_emisions_co2) hay un total de 1066 países (Aquí se está considerando los que se repiten).\n"
          ]
        }
      ],
      "source": [
        "# Coloque el código que responda a la pregunta aqui exactamente lo que se pregunta\n",
        "# busco en la lista pero sin repetir\n",
        "total_paises = df_emisions_co2['Country'].nunique() \n",
        "\n",
        "print('--------------------------------------------')\n",
        "print(f\"En el dataframe df_emisions_co2 hay un total de {total_paises} países (Estos sin repetir).\\n\")\n",
        "\n",
        "\n",
        "# busco en la lista aunque se repitan\n",
        "total_paises = len(df_emisions_co2['Country']) \n",
        "\n",
        "print('--------------------------------------------')\n",
        "print(f\"Pero además, en ese mismo dataframe (df_emisions_co2) hay un total de {total_paises} países (Aquí se está considerando los que se repiten).\")\n"
      ]
    },
    {
      "cell_type": "code",
      "execution_count": 147,
      "id": "2f46faa0",
      "metadata": {
        "id": "2f46faa0"
      },
      "outputs": [
        {
          "name": "stdout",
          "output_type": "stream",
          "text": [
            "La lista de todos los países sin repetir corresponde a:\n",
            "\n",
            "['Albania' 'Algeria' 'Angola' 'Argentina' 'Armenia' 'Australia' 'Austria'\n",
            " 'Azerbaijan' 'Bahrain' 'Bangladesh' 'Belarus' 'Belgium' 'Benin'\n",
            " 'Bolivia (Plurin. State of)' 'Bosnia and Herzegovina' 'Botswana' 'Brazil'\n",
            " 'Brunei Darussalam' 'Bulgaria' 'Cambodia' 'Cameroon' 'Canada' 'Chile'\n",
            " 'China' 'China, Hong Kong SAR' 'Colombia' 'Congo' 'Costa Rica'\n",
            " 'Côte d’Ivoire' 'Croatia' 'Cuba' 'Curaçao' 'Cyprus' 'Czechia'\n",
            " \"Dem. People's Rep. Korea\" 'Dem. Rep. of the Congo' 'Denmark'\n",
            " 'Dominican Republic' 'Ecuador' 'Egypt' 'El Salvador' 'Eritrea' 'Estonia'\n",
            " 'Ethiopia' 'Finland' 'France' 'Gabon' 'Georgia' 'Germany' 'Ghana'\n",
            " 'Gibraltar' 'Greece' 'Guatemala' 'Haiti' 'Honduras' 'Hungary' 'Iceland'\n",
            " 'India' 'Indonesia' 'Iran (Islamic Republic of)' 'Iraq' 'Ireland'\n",
            " 'Israel' 'Italy' 'Jamaica' 'Japan' 'Jordan' 'Kazakhstan' 'Kenya' 'Kosovo'\n",
            " 'Kuwait' 'Kyrgyzstan' 'Latvia' 'Lebanon' 'Libya' 'Lithuania' 'Luxembourg'\n",
            " 'Malaysia' 'Malta' 'Mauritius' 'Mexico' 'Mongolia' 'Montenegro' 'Morocco'\n",
            " 'Mozambique' 'Myanmar' 'Namibia' 'Nepal' 'Netherlands' 'New Zealand'\n",
            " 'Nicaragua' 'Niger' 'Nigeria' 'Norway' 'Oman' 'Pakistan' 'Panama'\n",
            " 'Paraguay' 'Peru' 'Philippines' 'Poland' 'Portugal' 'Qatar'\n",
            " 'Republic of Korea' 'Republic of Moldova' 'Romania' 'Russian Federation'\n",
            " 'Saudi Arabia' 'Senegal' 'Serbia' 'Singapore' 'Slovakia' 'Slovenia'\n",
            " 'South Africa' 'South Sudan' 'Spain' 'Sri Lanka' 'Sudan' 'Suriname'\n",
            " 'Sweden' 'Switzerland' 'Syrian Arab Republic' 'Tajikistan' 'Thailand'\n",
            " 'North Macedonia' 'Togo' 'Trinidad and Tobago' 'Tunisia' 'Turkey'\n",
            " 'Turkmenistan' 'Ukraine' 'United Arab Emirates' 'United Kingdom'\n",
            " 'United Rep. of Tanzania' 'United States of America' 'Uruguay'\n",
            " 'Uzbekistan' 'Venezuela (Boliv. Rep. of)' 'Viet Nam' 'Yemen' 'Zambia'\n",
            " 'Zimbabwe']\n"
          ]
        }
      ],
      "source": [
        "#Imprima un lista con todos los paises\n",
        "print('La lista de todos los países sin repetir corresponde a:\\n')\n",
        "print(df_emisions_co2['Country'].unique())"
      ]
    },
    {
      "cell_type": "markdown",
      "id": "1e40352a",
      "metadata": {
        "id": "1e40352a"
      },
      "source": [
        "# Pregunta 4"
      ]
    },
    {
      "cell_type": "markdown",
      "id": "80c46908",
      "metadata": {
        "id": "80c46908"
      },
      "source": [
        "Cuál es el país que tiene mayor emisiones usando el dataframe 'df_emisions_co2'?"
      ]
    },
    {
      "cell_type": "code",
      "execution_count": 289,
      "id": "e6df7d42",
      "metadata": {
        "id": "e6df7d42"
      },
      "outputs": [
        {
          "name": "stdout",
          "output_type": "stream",
          "text": [
            "\n",
            "---------------------------------------------------------------------------------------\n",
            "El país que tiene mayores emisiones usando el dataframe df_emisions_co2 según la lista corresponde a: China\n",
            "\n",
            "Ahora bien, por año los países que producen mayor contaminación son:\n",
            "\n",
            "------------------------------------------------------------------\n",
            "\n",
            "                       Country  Year     Value\n",
            "1004  United States of America  1975 4,355,839\n",
            "1005  United States of America  1985 4,514,313\n",
            "1006  United States of America  1995 5,073,896\n",
            "1007  United States of America  2005 5,703,220\n",
            "177                      China  2010 7,832,717\n",
            "178                      China  2015 9,101,376\n",
            "179                      China  2016 9,064,429\n",
            "180                      China  2017 9,257,934\n",
            "---------------Fin de la lista-------------------------\n",
            "\n"
          ]
        }
      ],
      "source": [
        "# Coloque el código que responda a la pregunta aqui exactamente lo que se pregunta\n",
        "\"\"\"Se crea el dataframe con el nombre de variable 'df_emisions_co2' usando únicamente las filas cuya columna \n",
        "'Type' tiene el valor 'Emissions (thousand metric tons of carbon dioxide)'\"\"\"\n",
        "# Coloque el código que responda a la pregunta aqui\n",
        "import pandas as pd\n",
        "\n",
        "ruta_archivo_csv =\"Carbon_Dioxide_Emission_Estimates.csv\"\n",
        "df = pd.read_csv(ruta_archivo_csv)\n",
        "\n",
        "df_emisions_co2 = df[df['Type'] == 'Emissions (thousand metric tons of carbon dioxide)']\n",
        "\n",
        "df_emisions_co2_agrupado = df_emisions_co2.groupby(['Country', 'Year'])['Value'].sum().reset_index()\n",
        "\n",
        "# Encontrar el país con mayor contaminación en total\n",
        "mayor_contaminacion_total = df_emisions_co2_agrupado.groupby('Country')['Value'].sum().idxmax()\n",
        "\n",
        "print('\\n---------------------------------------------------------------------------------------')\n",
        "print(f'El país que tiene mayores emisiones usando el dataframe df_emisions_co2 según la lista corresponde a: {mayor_contaminacion_total}\\n')\n",
        "\n",
        "pais_contaminacion_total = df_emisions_co2_agrupado.loc[df_emisions_co2_agrupado.groupby('Year')['Value'].idxmax()]\n",
        "print(f'Ahora bien, por año los países que producen mayor contaminación son:\\n')\n",
        "print('------------------------------------------------------------------\\n')\n",
        "print(pais_contaminacion_total)\n",
        "print('---------------Fin de la lista-------------------------\\n')\n",
        "\n"
      ]
    },
    {
      "cell_type": "markdown",
      "id": "26c97fde",
      "metadata": {
        "id": "26c97fde"
      },
      "source": [
        "# Pregunta 5"
      ]
    },
    {
      "cell_type": "markdown",
      "id": "541f44ca",
      "metadata": {
        "id": "541f44ca"
      },
      "source": [
        "Cuál es el año que tiene mayor emisiones para el país de Spain usando el dataframe 'df_emisions_co2'?"
      ]
    },
    {
      "cell_type": "code",
      "execution_count": 292,
      "id": "c32f62d1",
      "metadata": {
        "id": "c32f62d1"
      },
      "outputs": [
        {
          "name": "stdout",
          "output_type": "stream",
          "text": [
            "El año de mayores emisiones en España, usando el dataframe df_emisions_co2, fue el: 2005\n"
          ]
        }
      ],
      "source": [
        "# Coloque el código que responda a la pregunta aqui exactamente lo que se pregunta\n",
        "import pandas as pd\n",
        "\n",
        "df_emisions_co2 = df[df['Type'] == 'Emissions (thousand metric tons of carbon dioxide)']\n",
        "\n",
        "df_emisions_spain = df_emisions_co2[df_emisions_co2['Country'] == 'Spain']\n",
        "\n",
        "maximo_spain = df_emisions_spain['Value'].max()\n",
        "\n",
        "resultado = df_emisions_spain[df_emisions_spain['Value'] == maximo_spain]\n",
        "\n",
        "# Obtener el país(s) que corresponde(n) a ese valor\n",
        "a_spain = resultado['Year'].values[0]\n",
        "\n",
        "# Imprimir el país\n",
        "print(f\"El año de mayores emisiones en España, usando el dataframe df_emisions_co2, fue el: {a_spain}\")"
      ]
    },
    {
      "cell_type": "markdown",
      "id": "55ce4564",
      "metadata": {
        "id": "55ce4564"
      },
      "source": [
        "# Pregunta 6"
      ]
    },
    {
      "cell_type": "markdown",
      "id": "3473e4f2",
      "metadata": {
        "id": "3473e4f2"
      },
      "source": [
        "Cuáles son los años que se tiene registros para el dataframe 'df_emisions_co2_per_capita'?\n",
        "\n",
        "Entrege una lista con los años sin repetirse"
      ]
    },
    {
      "cell_type": "code",
      "execution_count": 294,
      "id": "5ad50924",
      "metadata": {
        "id": "5ad50924"
      },
      "outputs": [
        {
          "name": "stdout",
          "output_type": "stream",
          "text": [
            "La lista de años para los que se tiene registro según el dataframe df_emisions_co2_per_capita corresponde a:\n",
            "\n",
            "[1975 1985 1995 2005 2010 2015 2016 2017]\n"
          ]
        }
      ],
      "source": [
        "# Coloque el código que responda a la pregunta aqui exactamente lo que se preguntaimport pandas as pd\n",
        "import pandas as pd\n",
        "\n",
        "ruta_archivo_csv =\"Carbon_Dioxide_Emission_Estimates.csv\"\n",
        "df = pd.read_csv(ruta_archivo_csv)\n",
        "\n",
        "df_emisions_co2_percapita = df[df['Type'] == 'Emissions per capita (metric tons of carbon dioxide)']\n",
        "\n",
        "print('La lista de años para los que se tiene registro según el dataframe df_emisions_co2_per_capita corresponde a:\\n')\n",
        "print(df_emisions_co2_percapita['Year'].unique())"
      ]
    },
    {
      "cell_type": "markdown",
      "id": "18fa522e",
      "metadata": {
        "id": "18fa522e"
      },
      "source": [
        "# Pregunta 7"
      ]
    },
    {
      "cell_type": "markdown",
      "id": "2747ce42",
      "metadata": {
        "id": "2747ce42"
      },
      "source": [
        "Cuántas son las emisiones en 'toneladas métricas' en total usando todos los países para usando el dataframe 'df_emisions_co2'?\n"
      ]
    },
    {
      "cell_type": "code",
      "execution_count": 296,
      "id": "e8cbd117",
      "metadata": {
        "id": "e8cbd117"
      },
      "outputs": [
        {
          "name": "stdout",
          "output_type": "stream",
          "text": [
            "La suma total de emisiones, en toneladas métricas, usando todos los países de acuedo con el dataframe df_emisions_co2, corresponde a: 195028250.416.\n"
          ]
        }
      ],
      "source": [
        "# Coloque el código que responda a la pregunta aqui exactamente lo que se pregunta\n",
        "import pandas as pd\n",
        "\n",
        "ruta_archivo_csv =\"Carbon_Dioxide_Emission_Estimates.csv\"\n",
        "df = pd.read_csv(ruta_archivo_csv)\n",
        "\n",
        "df_emisions_co2 = df[df['Type'] == 'Emissions (thousand metric tons of carbon dioxide)']\n",
        "\n",
        "suma_total = df_emisions_co2['Value'].sum()\n",
        "print(f'La suma total de emisiones, en toneladas métricas, usando todos los países de acuedo con el dataframe df_emisions_co2, corresponde a: {suma_total:.3f}.')"
      ]
    },
    {
      "cell_type": "markdown",
      "id": "42aa86db",
      "metadata": {
        "id": "42aa86db"
      },
      "source": [
        "# Pregunta 8"
      ]
    },
    {
      "cell_type": "markdown",
      "id": "a303974d",
      "metadata": {
        "id": "a303974d"
      },
      "source": [
        "Cuántas son las emisiones en 'toneladas métricas' sólo para Albania usando el dataframe 'df_emisions_co2'?\n"
      ]
    },
    {
      "cell_type": "code",
      "execution_count": 297,
      "id": "181ab815",
      "metadata": {
        "id": "181ab815"
      },
      "outputs": [
        {
          "name": "stdout",
          "output_type": "stream",
          "text": [
            "Las emisiones en toneladas métricas sólo para Albania usando el dataframe df_emisions_co2, corresponde: 32713.283 toneladas\n"
          ]
        }
      ],
      "source": [
        "# Coloque el código que responda a la pregunta aqui exactamente lo que se pregunta\n",
        "import pandas as pd\n",
        "\n",
        "ruta_archivo_csv =\"Carbon_Dioxide_Emission_Estimates.csv\"\n",
        "df = pd.read_csv(ruta_archivo_csv)\n",
        "\n",
        "df_emisions_co2 = df[df['Type'] == 'Emissions (thousand metric tons of carbon dioxide)']\n",
        "\n",
        "df_emisions_co2_albania = df_emisions_co2 [df_emisions_co2 ['Country'] == 'Albania']\n",
        "df_emisions_co2_albania\n",
        "\n",
        "albania = df_emisions_co2_albania['Value'].sum()\n",
        "print(f'Las emisiones en toneladas métricas sólo para Albania usando el dataframe df_emisions_co2, corresponde: {albania:.3f} toneladas')"
      ]
    },
    {
      "cell_type": "markdown",
      "id": "d084c9f3",
      "metadata": {
        "id": "d084c9f3"
      },
      "source": [
        "# Pregunta 9"
      ]
    },
    {
      "cell_type": "markdown",
      "id": "ae9cebff",
      "metadata": {
        "id": "ae9cebff"
      },
      "source": [
        "Cuántas son las emisiones en 'libras' sólo para Costa Rica usando el dataframe 'df_emisions_co2'?\n"
      ]
    },
    {
      "cell_type": "code",
      "execution_count": 299,
      "id": "ee97d492",
      "metadata": {
        "id": "ee97d492"
      },
      "outputs": [
        {
          "name": "stdout",
          "output_type": "stream",
          "text": [
            "Las emisiones en toneladas métricas sólo para Costa Rica usando el dataframe df_emisions_co2, corresponde:42223.107 toneladas, que equivale a: 93085906.154 libras.\n"
          ]
        }
      ],
      "source": [
        "# Coloque el código que responda a la pregunta aqui exactamente lo que se pregunta\n",
        "import pandas as pd\n",
        "\n",
        "ruta_archivo_csv =\"Carbon_Dioxide_Emission_Estimates.csv\"\n",
        "df = pd.read_csv(ruta_archivo_csv)\n",
        "\n",
        "df_emisions_co2 = df[df['Type'] == 'Emissions (thousand metric tons of carbon dioxide)']\n",
        "\n",
        "df_emisions_co2_costa_rica = df_emisions_co2 [df_emisions_co2 ['Country'] == 'Costa Rica']\n",
        "\n",
        "costa_rica = df_emisions_co2_costa_rica ['Value'].sum()\n",
        "\n",
        "libras = costa_rica * 2204.62\n",
        "\n",
        "print(f'Las emisiones en toneladas métricas sólo para Costa Rica usando el dataframe df_emisions_co2, corresponde:{costa_rica:.3f} toneladas, que equivale a: {libras:.3f} libras.')"
      ]
    },
    {
      "cell_type": "markdown",
      "id": "eb6dfc54",
      "metadata": {
        "id": "eb6dfc54"
      },
      "source": [
        "# Pregunta 10"
      ]
    },
    {
      "cell_type": "markdown",
      "id": "5862817e",
      "metadata": {
        "id": "5862817e"
      },
      "source": [
        "Para sólo 'Costa Rica' y suponiendo que las emisiones se estancan a partir del último año reportado. Cuántas son las emisiones en 'Kg' sólo para Costa Rica en el año 2022 usando el dataframe 'df_emisions_co2'?\n"
      ]
    },
    {
      "cell_type": "code",
      "execution_count": 301,
      "id": "76ed009c",
      "metadata": {
        "id": "76ed009c"
      },
      "outputs": [
        {
          "name": "stdout",
          "output_type": "stream",
          "text": [
            "Suponiendo que las emisiones se estancan a partir del 2017 que es el último año reportado. Las emisiones en Kg\n",
            "sólo para Costa Rica en el año 2022 usando el dataframe df_emisions_co2 corresponde a: 7584411.0 kilogramos.\n"
          ]
        }
      ],
      "source": [
        "# Coloque el código que responda a la pregunta aqui exactamente lo que se pregunta\n",
        "import pandas as pd\n",
        "\n",
        "ruta_archivo_csv =\"Carbon_Dioxide_Emission_Estimates.csv\"\n",
        "df = pd.read_csv(ruta_archivo_csv)\n",
        "\n",
        "df_emisions_co2 = df[df['Type'] == 'Emissions (thousand metric tons of carbon dioxide)']\n",
        "\n",
        "df_emisions_co2_costa_rica = df_emisions_co2 [df_emisions_co2 ['Country'] == 'Costa Rica']\n",
        "ultimo_valor = df_emisions_co2_costa_rica['Value'].iloc[-1]\n",
        "kg = ultimo_valor * 1000\n",
        "print('Suponiendo que las emisiones se estancan a partir del 2017 que es el último año reportado. Las emisiones en Kg')\n",
        "print(f'sólo para Costa Rica en el año 2022 usando el dataframe df_emisions_co2 corresponde a: {kg} kilogramos.')"
      ]
    },
    {
      "cell_type": "markdown",
      "id": "1c18874b",
      "metadata": {
        "id": "1c18874b"
      },
      "source": [
        "# Pregunta 12"
      ]
    },
    {
      "cell_type": "markdown",
      "id": "6a487c43",
      "metadata": {
        "id": "6a487c43"
      },
      "source": [
        "Para sólo los países de Centroamérica ['El Salvador', 'Honduras', 'Guatemala', 'Costa Rica', 'Nicaragua'] obtener un reporte por año de las emisiones totales en Centroamérica usando el dataframe 'df_emisions_co2'?\n",
        "Se espera un dataframe de 2 columnas: 'Year' y 'total_por_año'"
      ]
    },
    {
      "cell_type": "code",
      "execution_count": 302,
      "id": "1d0426bf",
      "metadata": {
        "id": "1d0426bf"
      },
      "outputs": [
        {
          "name": "stdout",
          "output_type": "stream",
          "text": [
            "\n",
            "El reporte de emisiones totales desde el 1975 hasta 2017 por año en Centro América de la lista de país corresponde a:\n",
            "\n",
            "    Año  Total de Emisiones_CO2\n",
            "0  1975              12,334,023\n",
            "1  1985              14,417,227\n",
            "2  1995              20,474,378\n",
            "3  2005              25,766,805\n",
            "4  2010              29,117,474\n",
            "5  2015              30,902,349\n",
            "6  2016              30,827,961\n",
            "7  2017              31,193,355\n"
          ]
        }
      ],
      "source": [
        "# Coloque el código que responda a la pregunta aqui exactamente lo que se pregunta\n",
        "import pandas as pd\n",
        "\n",
        "ruta_archivo_csv =\"Carbon_Dioxide_Emission_Estimates.csv\"\n",
        "df = pd.read_csv(ruta_archivo_csv)\n",
        "\n",
        "df_emisions_co2 = df[df['Type'] == 'Emissions (thousand metric tons of carbon dioxide)']\n",
        "\n",
        "df_emisions_co2_cam = df_emisions_co2[df_emisions_co2['Country'].isin(['El Salvador', 'Honduras', 'Guatemala', 'Costa Rica', 'Nicaragua'])]\n",
        "\n",
        "reporte_anual_suma = df.groupby('Year')['Value'].sum().reset_index()\n",
        "\n",
        "# Imprimir el reporte de emisiones totales por año\n",
        "pd.set_option('display.float_format', '{:,.0f}'.format)\n",
        "reporte_anual_suma = reporte_anual_suma.rename(columns={'Year': 'Año', 'Value': 'Total de Emisiones_CO2'})\n",
        "print(\"\\nEl reporte de emisiones totales desde el 1975 hasta 2017 por año en Centro América de la lista de país corresponde a:\\n\")\n",
        "print(reporte_anual_suma)"
      ]
    },
    {
      "cell_type": "markdown",
      "id": "8fdaae3d",
      "metadata": {
        "id": "8fdaae3d"
      },
      "source": [
        "# Pregunta 13"
      ]
    },
    {
      "cell_type": "markdown",
      "id": "8a7e17ff",
      "metadata": {
        "id": "8a7e17ff"
      },
      "source": [
        "Para sólo los países de Centroamérica ['El Salvador', 'Honduras', 'Guatemala', 'Costa Rica', 'Nicaragua'] obtener un reporte por año de las emisiones en promedio en Centroamérica usando el dataframe 'df_emisions_co2_per_capita'?\n",
        "Se espera un dataframe de 2 columnas: 'Year' y 'promedio_por_año'"
      ]
    },
    {
      "cell_type": "code",
      "execution_count": 303,
      "id": "4ec787f4",
      "metadata": {
        "id": "4ec787f4"
      },
      "outputs": [
        {
          "name": "stdout",
          "output_type": "stream",
          "text": [
            "\n",
            "El reporte del promedio de las emisiones, desde el 1975 hasta 2017, en Centro América según la lista de país corresponde a:\n",
            "\n",
            "    Año  Promedio de las Emisiones_CO2 en C.A.\n",
            "0  1975                                 55,559\n",
            "1  1985                                 63,793\n",
            "2  1995                                 75,273\n",
            "3  2005                                 92,024\n",
            "4  2010                                103,991\n",
            "5  2015                                108,811\n",
            "6  2016                                108,549\n",
            "7  2017                                109,836\n"
          ]
        }
      ],
      "source": [
        "# Coloque el código que responda a la pregunta aqui exactamente lo que se pregunta\n",
        "\"\"\"Se crea el dataframe con el nombre de variable 'df_emisions_co2_per_capita' usando únicamente las filas cuya columna \n",
        "'Type' tiene el valor Emissions per capita (metric tons of carbon dioxide)\"\"\"\n",
        "# Coloque el código que responda a la pregunta aqui\n",
        "import pandas as pd\n",
        "\n",
        "ruta_archivo_csv =\"Carbon_Dioxide_Emission_Estimates.csv\"\n",
        "df = pd.read_csv(ruta_archivo_csv)\n",
        "\n",
        "df_emisions_co2_percapita = df[df['Type'] == 'Emissions per capita (metric tons of carbon dioxide)']\n",
        "\n",
        "df_emisions_co2_cam_perca = df_emisions_co2_percapita[df_emisions_co2_percapita['Country'].isin(['El Salvador', 'Honduras', 'Guatemala', 'Costa Rica', 'Nicaragua'])]\n",
        "\n",
        "promedio_anual = df.groupby('Year')['Value'].mean().reset_index()\n",
        "\n",
        "# Mostrar el resultado\n",
        "pd.set_option('display.float_format', '{:,.0f}'.format)\n",
        "promedio_anual = promedio_anual.rename(columns={'Year': 'Año', 'Value': 'Promedio de las Emisiones_CO2 en C.A.'})\n",
        "print(\"\\nEl reporte del promedio de las emisiones, desde el 1975 hasta 2017, en Centro América según la lista de país corresponde a:\\n\")\n",
        "print(promedio_anual)\n",
        "\n",
        "\n"
      ]
    },
    {
      "cell_type": "markdown",
      "id": "944ac865",
      "metadata": {
        "id": "944ac865"
      },
      "source": [
        "# Pregunta 14"
      ]
    },
    {
      "cell_type": "markdown",
      "id": "b961da55",
      "metadata": {
        "id": "b961da55"
      },
      "source": [
        "Cuál es el promedio de las emisiones per capita para el año 2005 usando el dataframe 'df_emisions_co2_per_capita'?\n"
      ]
    },
    {
      "cell_type": "code",
      "execution_count": 307,
      "id": "e2f0a786",
      "metadata": {
        "id": "e2f0a786"
      },
      "outputs": [
        {
          "name": "stdout",
          "output_type": "stream",
          "text": [
            "\n",
            "Promedio de emisiones de CO_2, de todos los países de la lista, para el año 2005 usando el dataframe df_emisions_co2_per_capita corresponde a: 5.29775 toneladas.\n"
          ]
        }
      ],
      "source": [
        "# Coloque el código que responda a la pregunta aqui exactamente lo que se pregunta\n",
        "\"\"\"Se crea el dataframe con el nombre de variable 'df_emisions_co2_per_capita' usando únicamente las filas cuya columna \n",
        "'Type' tiene el valor Emissions per capita (metric tons of carbon dioxide)\"\"\"\n",
        "# Coloque el código que responda a la pregunta aqui\n",
        "import pandas as pd\n",
        "\n",
        "ruta_archivo_csv =\"Carbon_Dioxide_Emission_Estimates.csv\"\n",
        "df = pd.read_csv(ruta_archivo_csv)\n",
        "\n",
        "df_emisions_co2_percapita = df[df['Type'] == 'Emissions per capita (metric tons of carbon dioxide)']\n",
        "\n",
        "\n",
        "\n",
        "# Filtrar el DataFrame para el año 2005\n",
        "df_2005 = df_emisions_co2_percapita[df_emisions_co2_percapita['Year'] == 2005]\n",
        "df_2005\n",
        "\n",
        "# Calcular el promedio de las emisiones para el año 2005\n",
        "promedio_2005 = df_2005['Value'].mean()\n",
        "\n",
        "# Mostrar el resultado\n",
        "print(f\"\\nPromedio de emisiones de CO_2, de todos los países de la lista, para el año 2005 usando el dataframe df_emisions_co2_per_capita corresponde a: {promedio_2005} toneladas.\")"
      ]
    }
  ],
  "metadata": {
    "colab": {
      "provenance": []
    },
    "kernelspec": {
      "display_name": "Python 3",
      "language": "python",
      "name": "python3"
    },
    "language_info": {
      "codemirror_mode": {
        "name": "ipython",
        "version": 3
      },
      "file_extension": ".py",
      "mimetype": "text/x-python",
      "name": "python",
      "nbconvert_exporter": "python",
      "pygments_lexer": "ipython3",
      "version": "3.13.1"
    }
  },
  "nbformat": 4,
  "nbformat_minor": 5
}
