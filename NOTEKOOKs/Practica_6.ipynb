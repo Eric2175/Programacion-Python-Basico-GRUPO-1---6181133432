{
 "cells": [
  {
   "cell_type": "markdown",
   "id": "3127ae9d",
   "metadata": {},
   "source": [
    "# CLASE 07 Creación de Arrays\n",
    "## Prof. Andrés Mena Abarca\n",
    "### Estudiante: Eric Ricardo Padilla Mora "
   ]
  },
  {
   "cell_type": "markdown",
   "id": "4075b2ab",
   "metadata": {},
   "source": [
    "### Crear un array a partir de una lista"
   ]
  },
  {
   "cell_type": "code",
   "execution_count": 3,
   "id": "98fafc10",
   "metadata": {},
   "outputs": [
    {
     "name": "stdout",
     "output_type": "stream",
     "text": [
      "[1 2 3 4 5]\n"
     ]
    }
   ],
   "source": [
    "import numpy as np\n",
    "\n",
    "lista = [1, 2, 3, 4, 5]\n",
    "\n",
    "# Convertir la lista a un array\n",
    "array = np.array(lista)\n",
    "\n",
    "print(array)\n"
   ]
  },
  {
   "cell_type": "markdown",
   "id": "0e8e40b3",
   "metadata": {},
   "source": [
    "### Crear un array de ceros de tamaño 5x5"
   ]
  },
  {
   "cell_type": "code",
   "execution_count": 26,
   "id": "043e0131",
   "metadata": {},
   "outputs": [
    {
     "name": "stdout",
     "output_type": "stream",
     "text": [
      "[[0. 0. 0.]\n",
      " [0. 0. 0.]\n",
      " [0. 0. 0.]]\n"
     ]
    }
   ],
   "source": [
    "#Código crear un array de ceros de tamaño 5x5\n",
    "array_ceros = np.zeros((3, 3))\n",
    "\n",
    "print(array_ceros)\n"
   ]
  },
  {
   "cell_type": "markdown",
   "id": "a640f233",
   "metadata": {},
   "source": [
    "### Crear un array de unos de tamaño 3x3"
   ]
  },
  {
   "cell_type": "code",
   "execution_count": 31,
   "id": "ac2b7096",
   "metadata": {},
   "outputs": [
    {
     "name": "stdout",
     "output_type": "stream",
     "text": [
      "[[1. 1. 1. 1.]\n",
      " [1. 1. 1. 1.]\n",
      " [1. 1. 1. 1.]\n",
      " [1. 1. 1. 1.]\n",
      " [1. 1. 1. 1.]]\n"
     ]
    }
   ],
   "source": [
    "#Código crear un array de unos de tamaño 3x3\n",
    "# Crear un array de unos de tamaño 5x5\n",
    "array_unos = np.ones((5, 4))\n",
    "\n",
    "print(array_unos)"
   ]
  },
  {
   "cell_type": "markdown",
   "id": "5ff1ca1e",
   "metadata": {},
   "source": [
    "### Crear un array con valores espaciados uniformemente de 0 a 9"
   ]
  },
  {
   "cell_type": "code",
   "execution_count": 32,
   "id": "60cefb4b",
   "metadata": {},
   "outputs": [
    {
     "name": "stdout",
     "output_type": "stream",
     "text": [
      "[0. 1. 2. 3. 4. 5. 6. 7. 8. 9.]\n"
     ]
    }
   ],
   "source": [
    "#Código rear un array con valores espaciados uniformemente de 0 a 9\n",
    "array_linear = np.linspace(0, 9, 10)\n",
    "\n",
    "print(array_linear)"
   ]
  },
  {
   "cell_type": "markdown",
   "id": "af014afb",
   "metadata": {},
   "source": [
    "### #Crear un array con 6 valores espaciados linealmente entre 0 y 1\n"
   ]
  },
  {
   "cell_type": "code",
   "execution_count": 113,
   "id": "5ba6f502",
   "metadata": {},
   "outputs": [
    {
     "name": "stdout",
     "output_type": "stream",
     "text": [
      "[0.         0.01010101 0.02020202 0.03030303 0.04040404 0.05050505\n",
      " 0.06060606 0.07070707 0.08080808 0.09090909 0.1010101  0.11111111\n",
      " 0.12121212 0.13131313 0.14141414 0.15151515 0.16161616 0.17171717\n",
      " 0.18181818 0.19191919 0.2020202  0.21212121 0.22222222 0.23232323\n",
      " 0.24242424 0.25252525 0.26262626 0.27272727 0.28282828 0.29292929\n",
      " 0.3030303  0.31313131 0.32323232 0.33333333 0.34343434 0.35353535\n",
      " 0.36363636 0.37373737 0.38383838 0.39393939 0.4040404  0.41414141\n",
      " 0.42424242 0.43434343 0.44444444 0.45454545 0.46464646 0.47474747\n",
      " 0.48484848 0.49494949 0.50505051 0.51515152 0.52525253 0.53535354\n",
      " 0.54545455 0.55555556 0.56565657 0.57575758 0.58585859 0.5959596\n",
      " 0.60606061 0.61616162 0.62626263 0.63636364 0.64646465 0.65656566\n",
      " 0.66666667 0.67676768 0.68686869 0.6969697  0.70707071 0.71717172\n",
      " 0.72727273 0.73737374 0.74747475 0.75757576 0.76767677 0.77777778\n",
      " 0.78787879 0.7979798  0.80808081 0.81818182 0.82828283 0.83838384\n",
      " 0.84848485 0.85858586 0.86868687 0.87878788 0.88888889 0.8989899\n",
      " 0.90909091 0.91919192 0.92929293 0.93939394 0.94949495 0.95959596\n",
      " 0.96969697 0.97979798 0.98989899 1.        ]\n"
     ]
    }
   ],
   "source": [
    "#Código crear un array con 6 valores espaciados linealmente entre 0 y 1\n",
    "array_reto = np.linspace(0, 1, 100)\n",
    "\n",
    "print(array_reto)"
   ]
  },
  {
   "cell_type": "markdown",
   "id": "90ed91a1",
   "metadata": {},
   "source": [
    "# Operaciones Básicas"
   ]
  },
  {
   "cell_type": "markdown",
   "id": "b000074f",
   "metadata": {},
   "source": [
    "### Realizar una suma, resta, multiplicación y división entre dos arrays"
   ]
  },
  {
   "cell_type": "code",
   "execution_count": 42,
   "id": "ff348071",
   "metadata": {},
   "outputs": [
    {
     "name": "stdout",
     "output_type": "stream",
     "text": [
      "La suma es:  [56 44 29]\n",
      "La resta es:  [44 36 11]\n",
      "La multiplicación es:  [300 160 180]\n",
      "La división es:  [ 8.33333333 10.          2.22222222]\n"
     ]
    }
   ],
   "source": [
    "array_salario = np.array([50,40,20])\n",
    "array_propinas = np.array([6,4,9])\n",
    "\n",
    "#Código realizar una suma, resta, multiplicación y división entre dos arrays\n",
    "suma = array_salario + array_propinas\n",
    "resta = array_salario - array_propinas\n",
    "multiplicacion = array_salario * array_propinas\n",
    "division = array_salario / array_propinas\n",
    "# Salida\n",
    "'''\n",
    "print(\"La suma es: \",suma)\n",
    "#print(\"La resta es: \",resta)\n",
    "#print(\"La multiplicación es: \",multiplicacion)\n",
    "#print(\"La división es: \",division)\n",
    "'''\n",
    "print(\"La suma es: \",suma)\n",
    "print(\"La resta es: \",resta)\n",
    "print(\"La multiplicación es: \",multiplicacion)\n",
    "print(\"La división es: \",division)"
   ]
  },
  {
   "cell_type": "code",
   "execution_count": 70,
   "id": "a270ae97",
   "metadata": {},
   "outputs": [
    {
     "name": "stdout",
     "output_type": "stream",
     "text": [
      "El producto escalar salarios con propinas da: 640\n"
     ]
    }
   ],
   "source": [
    "#Calcular el producto punto de dos arrays\n",
    "multiplicacion = np.dot(array_salario,array_propinas)\n",
    "print(f'El producto escalar salarios con propinas da: {multiplicacion}')"
   ]
  },
  {
   "cell_type": "code",
   "execution_count": 76,
   "id": "dddd8ba1",
   "metadata": {},
   "outputs": [
    {
     "name": "stdout",
     "output_type": "stream",
     "text": [
      "Vector columna original:\n",
      "[[1]\n",
      " [2]\n",
      " [3]]\n",
      "\n",
      "Vector columna transpuesto:\n",
      "[[1 2 3]]\n"
     ]
    }
   ],
   "source": [
    "vector_columna = np.array([[1], [2], [3]])\n",
    "\n",
    "# Transponer el vector columna\n",
    "transpuesta_columna = vector_columna.T\n",
    "\n",
    "print(\"Vector columna original:\")\n",
    "print(vector_columna)\n",
    "\n",
    "print(\"\\nVector columna transpuesto:\")\n",
    "print(transpuesta_columna)"
   ]
  },
  {
   "cell_type": "markdown",
   "id": "5e44ba57",
   "metadata": {},
   "source": [
    "# Operaciones Estadísticas"
   ]
  },
  {
   "cell_type": "code",
   "execution_count": 114,
   "id": "7f3e6efd",
   "metadata": {},
   "outputs": [
    {
     "name": "stdout",
     "output_type": "stream",
     "text": [
      "El promedio de los datos es: 3.5\n",
      "La suma es de los datos es: 21\n",
      "El mínimo de los datos es: 1\n",
      "El máximo de los datos es: 6\n"
     ]
    },
    {
     "data": {
      "text/plain": [
       "'\\n# Mostrar los resultados\\nprint(\"La media es:\", media)\\nprint(\"La suma es:\", suma)\\nprint(\"El valor mínimo es:\", valor_minimo)\\nprint(\"El valor máximo es:\", valor_maximo)\\n'"
      ]
     },
     "execution_count": 114,
     "metadata": {},
     "output_type": "execute_result"
    }
   ],
   "source": [
    "#Calcular la media, suma, valor mínimo y valor máximo de un array\n",
    "\n",
    "\n",
    "# Crear un array NumPy\n",
    "array_numeros = np.array([5, 2, 4, 1, 3])\n",
    "\n",
    "# Calcular la media\n",
    "array_original = np.array([1, 2, 3, 4, 5, 6])\n",
    "\n",
    "media =np.mean(array_original)\n",
    "print(f'El promedio de los datos es: {media}')\n",
    "# Calcular la suma\n",
    "suma = np.sum(array_original)\n",
    "print(f'La suma es de los datos es: {suma}')\n",
    "\n",
    "# Calcular el valor mínimo\n",
    "minimo = np.min(array_original)\n",
    "print(f'El mínimo de los datos es: {minimo}')\n",
    "\n",
    "# Calcular el valor máximo\n",
    "maximo = np.max(array_original)\n",
    "print(f'El máximo de los datos es: {maximo}')\n",
    "'''\n",
    "# Mostrar los resultados\n",
    "print(\"La media es:\", media)\n",
    "print(\"La suma es:\", suma)\n",
    "print(\"El valor mínimo es:\", valor_minimo)\n",
    "print(\"El valor máximo es:\", valor_maximo)\n",
    "'''\n"
   ]
  },
  {
   "cell_type": "code",
   "execution_count": 115,
   "id": "f6264d86",
   "metadata": {},
   "outputs": [
    {
     "name": "stdout",
     "output_type": "stream",
     "text": [
      "[[1 2]\n",
      " [3 4]\n",
      " [5 6]]\n"
     ]
    },
    {
     "data": {
      "text/plain": [
       "'\\n# Imprimir el array original y el reshapeado\\nprint(\"Array original:\", array_original)\\nprint(\"Array reshapeado:\", array_reshapeado)\\n'"
      ]
     },
     "execution_count": 115,
     "metadata": {},
     "output_type": "execute_result"
    }
   ],
   "source": [
    "\n",
    "# Crear un array original\n",
    "array_original = np.array([1, 2, 3, 4, 5, 6])\n",
    "\n",
    "\n",
    "# Nueva forma deseada (2 filas y 3 columnas)\n",
    "array_reshapeado = array_original.reshape(3,2)\n",
    "print(array_reshapeado)\n",
    "\n",
    "# Crear un array original\n",
    "\n",
    "# Nueva forma deseada (2 filas y 3 columnas)\n",
    "\n",
    "\n",
    "'''\n",
    "# Imprimir el array original y el reshapeado\n",
    "print(\"Array original:\", array_original)\n",
    "print(\"Array reshapeado:\", array_reshapeado)\n",
    "'''"
   ]
  },
  {
   "cell_type": "markdown",
   "id": "195c5f6d",
   "metadata": {},
   "source": [
    "# Álgebra Lineal"
   ]
  },
  {
   "cell_type": "markdown",
   "id": "b920534e",
   "metadata": {},
   "source": [
    "### Calcular el determinante de una matriz 2x2"
   ]
  },
  {
   "cell_type": "code",
   "execution_count": 118,
   "id": "d01ce9f8",
   "metadata": {},
   "outputs": [
    {
     "name": "stdout",
     "output_type": "stream",
     "text": [
      "La matriz es:\n",
      " [[1 2]\n",
      " [2 5]]\n",
      "El valor del determinante de la matriz es 1.0\n"
     ]
    }
   ],
   "source": [
    "nuevo_array = np.array([[1,2],[2,5]])\n",
    "print(f'La matriz es:\\n {nuevo_array}')\n",
    "#Código para calcular el determinante de una matriz 2x2\n",
    "determinante = np.linalg.det(nuevo_array)\n",
    "#print(determinante)}\n",
    "print(f'El valor del determinante de la matriz es {determinante}')"
   ]
  },
  {
   "cell_type": "markdown",
   "id": "b1325b2b",
   "metadata": {},
   "source": [
    "### Calcular la matriz inversa de una matriz 3x3"
   ]
  },
  {
   "cell_type": "code",
   "execution_count": null,
   "id": "9782d614",
   "metadata": {},
   "outputs": [
    {
     "name": "stdout",
     "output_type": "stream",
     "text": [
      "La matriz es:\n",
      " [[12  2 15]\n",
      " [ 2 45  4]\n",
      " [ 6  7  8]]\n",
      "El valor del determinante de la matriz es 160.000\n",
      "\n",
      "La matriz inversa es:\n",
      "\n",
      "[[ 2.075    0.55625 -4.16875]\n",
      " [ 0.05     0.0375  -0.1125 ]\n",
      " [-1.6     -0.45     3.35   ]]\n"
     ]
    }
   ],
   "source": [
    "# Definir la matriz 3x3\n",
    "nueva_matriz = np.array([[12,2,15],[2,45,4],[6,7,8]])\n",
    "print(f'La matriz es:\\n {nueva_matriz}')\n",
    "#Cálculo del determinante para ver que tenga inversa\n",
    "# determinante = np.linalg.det(nueva_matriz)\n",
    "\n",
    "inversa = np.linalg.inv(nueva_matriz)\n",
    "\n",
    "# Mostrar la inversa\n",
    "\n",
    "print(\"\\nLa matriz inversa es:\\n\")\n",
    "print(inversa)\n",
    "\n",
    "# Imprimir la matriz inversa\n",
    "\n"
   ]
  },
  {
   "cell_type": "markdown",
   "id": "98f0cfc8",
   "metadata": {},
   "source": [
    "### Calcular los valores propios y vectores propios de una matriz 4x4"
   ]
  },
  {
   "cell_type": "code",
   "execution_count": 130,
   "id": "07211323",
   "metadata": {},
   "outputs": [
    {
     "name": "stdout",
     "output_type": "stream",
     "text": [
      "Los valores propios son:\n",
      " [ 3.62093727e+01 -2.20937271e+00 -2.62410379e-15 -9.51420961e-17]\n",
      "Los vectores propios son:\n",
      "\n",
      "[[-0.15115432 -0.72704996 -0.47688035 -0.07702174]\n",
      " [-0.34923733 -0.28320876  0.83665151 -0.30149603]\n",
      " [-0.54732033  0.16063243 -0.24266197  0.83405728]\n",
      " [-0.74540333  0.60447363 -0.11710919 -0.45553951]]\n"
     ]
    },
    {
     "data": {
      "text/plain": [
       "'\\nprint(\"Valores propios:\", autovalores)\\nprint(\"Vectores propios:\")\\nfor i in range(len(autovectores)):\\n    print(f\"Vector propio {i+1}:\", autovectores[i])\\n'"
      ]
     },
     "execution_count": 130,
     "metadata": {},
     "output_type": "execute_result"
    }
   ],
   "source": [
    "\n",
    "# Definir la matriz 4x4\n",
    "matriz_4x4 = np.array([[1, 2, 3, 4], [5, 6, 7, 8], [9, 10, 11, 12], [13, 14, 15, 16]])\n",
    "\n",
    "# Calcular valores propios y vectores propios\n",
    "valores_propios, vectores_propios = np.linalg.eig(matriz_4x4)\n",
    "\n",
    "# Mostrar los resultados\n",
    "print(\"Los valores propios son:\\n\", valores_propios)\n",
    "print(\"Los vectores propios son:\\n\")\n",
    "print(vectores_propios)\n",
    "\n",
    "# Separar valores propios y vectores propios\n",
    " # Parte real de los valores propios complejos\n",
    "  # Parte real de los vectores propios complejos\n",
    "\n",
    "# Imprimir resultados\n",
    "'''\n",
    "print(\"Valores propios:\", autovalores)\n",
    "print(\"Vectores propios:\")\n",
    "for i in range(len(autovectores)):\n",
    "    print(f\"Vector propio {i+1}:\", autovectores[i])\n",
    "'''"
   ]
  },
  {
   "cell_type": "markdown",
   "id": "efd4320a",
   "metadata": {},
   "source": [
    "# Funciones Universales"
   ]
  },
  {
   "cell_type": "code",
   "execution_count": 136,
   "id": "b6104243",
   "metadata": {},
   "outputs": [
    {
     "name": "stdout",
     "output_type": "stream",
     "text": [
      "El seno de los ángulos es: [0.0000000e+00 1.0000000e+00 1.2246468e-16]\n",
      "El coseno de los ángulos es: [0.0000000e+00 1.0000000e+00 1.2246468e-16]\n",
      "La exponencial de los ángulos es: [ 1.          4.81047738 23.14069263]\n",
      "El logaritmo de los ángulos es: [-2.30258509  0.45158271  1.14472989]\n"
     ]
    }
   ],
   "source": [
    "import math\n",
    "# Crear un array con ángulos\n",
    "array_angulos = np.array([0, np.pi/2, np.pi])\n",
    "\n",
    "# Calcular el seno de cada ángulo\n",
    "seno_angulos = np.sin(array_angulos)\n",
    "\n",
    "# Mostrar el resultado\n",
    "print(\"El seno de los ángulos es:\", seno_angulos)\n",
    "\n",
    "# Calcular el coseno de los ángulos\n",
    "cos_angulos = np.sin(array_angulos)\n",
    "\n",
    "# Mostrar el resultado\n",
    "print(\"El coseno de los ángulos es:\", cos_angulos)\n",
    "\n",
    "# Calcular la exponencial de los ángulos\n",
    "# Definir un array de ángulos en radianes\n",
    "array_angulos = np.array([0, np.pi/2, np.pi])\n",
    "\n",
    "# Calcular la exponencial de cada ángulo\n",
    "exp_angulos = np.exp(array_angulos)\n",
    "\n",
    "# Mostrar el resultado\n",
    "print(\"La exponencial de los ángulos es:\", exp_angulos)\n",
    "\n",
    "\n",
    "# Definir el arreglo de los ángulos en radianes\n",
    "array_angulos = np.array([0.1, np.pi/2, np.pi])  # Usamos 0.1 para evitar log(0)\n",
    "\n",
    "# Calcular el logaritmo natural de cada ángulo\n",
    "log_angulos = np.log(array_angulos)\n",
    "\n",
    "print(\"El logaritmo de los ángulos es:\", log_angulos)\n"
   ]
  },
  {
   "cell_type": "code",
   "execution_count": 142,
   "id": "eadbf298",
   "metadata": {},
   "outputs": [
    {
     "name": "stdout",
     "output_type": "stream",
     "text": [
      "La primera fila es: [1 2 3]\n",
      "La última columna es: [3 6 9]\n",
      "La submatriz es:\n",
      "[[4 5]]\n"
     ]
    }
   ],
   "source": [
    "#Realizar indexación y slicing en un array 2D\n",
    "array_2d = np.array([[1, 2, 3], [4, 5, 6], [7, 8, 9]])\n",
    "\n",
    "\n",
    "# Obtener la primera fila del array\n",
    "# Obtener la primera fila\n",
    "primera_fila = array_2d[0]\n",
    "\n",
    "# Mostrar la primera fila\n",
    "print(\"La primera fila es:\", primera_fila)\n",
    "\n",
    "# Obtener la última columna del array\n",
    "  # [3, 6, 9]\n",
    "# Obtener la primera fila\n",
    "ultima_columna = array_2d[ :, -1]\n",
    "\n",
    "# Mostrar la primera fila\n",
    "print(\"La última columna es:\", ultima_columna)\n",
    "# Obtener una submatriz que contiene la segunda fila y las dos primeras columnas\n",
    "  # [4, 5]\n",
    "submatriz = array_2d[1:2, :2]\n",
    "\n",
    "# Imprimir los subconjuntos de datos extraídos\n",
    "print(\"La submatriz es:\")\n",
    "print(submatriz)"
   ]
  },
  {
   "cell_type": "markdown",
   "id": "38fb3e51",
   "metadata": {},
   "source": [
    "# Generación de Números Aleatorios"
   ]
  },
  {
   "cell_type": "code",
   "execution_count": 144,
   "id": "4c9439b1",
   "metadata": {},
   "outputs": [
    {
     "name": "stdout",
     "output_type": "stream",
     "text": [
      "Número aleatorio entre 1 y 100: [14 84 79 22 69 83 98 20 28 44]\n"
     ]
    }
   ],
   "source": [
    "#Generar un array de 10 números enteros aleatorios entre 1 y 100\n",
    "# Generar un número aleatorio entre 0 y 100 (sin incluir 100)\n",
    "numero_aleatorio = np.random.randint(1, 101, 10)\n",
    "\n",
    "# Mostrar el resultado\n",
    "print(\"Número aleatorio entre 1 y 100:\", numero_aleatorio)"
   ]
  },
  {
   "cell_type": "code",
   "execution_count": 147,
   "id": "7b67e54f",
   "metadata": {},
   "outputs": [
    {
     "name": "stdout",
     "output_type": "stream",
     "text": [
      "Matriz 2x3 con números aleatorios entre 0 y 1:\n",
      "[[0.57874098 0.787703   0.20993801]\n",
      " [0.968983   0.66310958 0.18359768]]\n"
     ]
    }
   ],
   "source": [
    "#Generar una matriz 2x3 con números aleatorios uniformemente distribuidos entre 0 y 1\n",
    "matriz_aleatoria = np.random.rand(2, 3)\n",
    "\n",
    "# Mostrar la matriz\n",
    "print(\"Matriz 2x3 con números aleatorios entre 0 y 1:\")\n",
    "print(matriz_aleatoria)"
   ]
  },
  {
   "cell_type": "code",
   "execution_count": 148,
   "id": "bc4519a1",
   "metadata": {},
   "outputs": [
    {
     "name": "stdout",
     "output_type": "stream",
     "text": [
      "Array de 5 números aleatorios con distribución normal (media 0, desviación estándar 1):\n",
      "[ 2.20619379 -0.54619362 -1.58730286 -0.6240477   0.05256075]\n"
     ]
    }
   ],
   "source": [
    "# Generar un array de 5 números aleatorios con distribución normal (media 0, desviación estándar 1)\n",
    "array_normal = np.random.randn(5)\n",
    "\n",
    "# Mostrar el array\n",
    "print(\"Array de 5 números aleatorios con distribución normal (media 0, desviación estándar 1):\")\n",
    "print(array_normal)\n"
   ]
  },
  {
   "cell_type": "markdown",
   "id": "3be5e970",
   "metadata": {},
   "source": [
    "# Ejercicios Reales o prácticos\n",
    "\n",
    "## Caso 1. Preferencias de Mariana"
   ]
  },
  {
   "cell_type": "code",
   "execution_count": 68,
   "id": "7c556a57",
   "metadata": {},
   "outputs": [
    {
     "name": "stdout",
     "output_type": "stream",
     "text": [
      "La similitud de preferencias de Mariana con avatar es de: 89\n",
      "La similitud de preferencias de Mariana con brave heart es de: 79\n",
      "Le recomendamos avatar\n"
     ]
    }
   ],
   "source": [
    "# Preferencias Mariana (Acción, Comedia, Drama)\n",
    "\n",
    "mariana = np.array([7,9,2])\n",
    "avatar = np.array([10,1,5]) # más acción menos comedia\n",
    "brave_heart = np.array([8,1,7]) # más acción menos comedia\n",
    "\n",
    "# Calcular la similtud de estas películas con los gustos de Mariana\n",
    "similitud_p1 = np.dot(mariana,avatar)\n",
    "similitud_p2 = np.dot(mariana,brave_heart)\n",
    "\n",
    "print(f'La similitud de preferencias de Mariana con avatar es de: {similitud_p1}')\n",
    "print(f'La similitud de preferencias de Mariana con brave heart es de: {similitud_p2}')\n",
    "if similitud_p1 > similitud_p2:\n",
    "     print('Le recomendamos avatar')\n",
    "else:\n",
    "    print('Le recomendamos brave heart')"
   ]
  },
  {
   "cell_type": "markdown",
   "id": "62c5e46d",
   "metadata": {},
   "source": [
    "## Caso 2. Estudio de correlación"
   ]
  },
  {
   "cell_type": "code",
   "execution_count": 86,
   "id": "ed3dbb30",
   "metadata": {},
   "outputs": [
    {
     "name": "stdout",
     "output_type": "stream",
     "text": [
      "Coeficiente de correlación: 0.3208\n"
     ]
    }
   ],
   "source": [
    "import numpy as np\n",
    "#Datos Tipo Cambio Dolar Ultimos 10 meses | IPC , metrica mesual\n",
    "\n",
    "\n",
    "tipo_cambio = np.array([506.96,505.00,504.27,505.52,506.23,506.23,506.23,506.58,506.87,507.25])\n",
    "ipc = np.array([109.46,109.55,109.71,109.57,109.70,109.33,108.85, 109.36,110.39,110.79])\n",
    "\n",
    "\n",
    "#Calcular coeficiente de correlación\n",
    "correlacion = np.corrcoef(tipo_cambio,ipc)[0,1]\n",
    "\n",
    "\n",
    "print(f'Coeficiente de correlación: {correlacion:.4f}')"
   ]
  },
  {
   "cell_type": "markdown",
   "id": "68013b14",
   "metadata": {},
   "source": [
    "## Caso 3. Horas de Estudio vrs Notas"
   ]
  },
  {
   "cell_type": "code",
   "execution_count": 112,
   "id": "ea97daf8",
   "metadata": {},
   "outputs": [
    {
     "name": "stdout",
     "output_type": "stream",
     "text": [
      "Promedio ponderado: 52.5\n",
      "La diferencia de las notas es: [5 5 3 4 5 3 3 3 4]\n",
      "El promedio del incremento por cada hora de estudio corresponde a: 3.889\n",
      "La nota máxima estimada si estudio 12 es de: 92.778\n",
      "La nota mínima estimada si estudio 12 es de: 7.222\n"
     ]
    }
   ],
   "source": [
    "horas_estudio = np.array([1,2,3,4,5,6,7,8,9,10]) #Horas de estudio\n",
    "notas = np.array([50,55,60,63,67,72,75,78,81,85]) #Notas obtenidas\n",
    "\n",
    "#Cálculo crecimiento del promedio del puntaje por horas de estudio\n",
    "\n",
    "diferencia_notas = np.diff(notas)\n",
    "promedio = np.mean(diferencia_notas)\n",
    " \n",
    "promedio_pond =  np.average([[50,75,90],[10,75,15]])\n",
    "print(f'Promedio ponderado: {promedio_pond}')\n",
    "print(f'La diferencia de las notas es: {diferencia_notas}')\n",
    "print(f'El promedio del incremento por cada hora de estudio corresponde a: {promedio:.3f}')\n",
    "\n",
    "# Estimación dedel puntaje si estudio 12 horas\n",
    "proyeccion_estudio = 12\n",
    "nota_estimada = (proyeccion_estudio - horas_estudio[-1])*promedio + max(notas)\n",
    "nota_min = (min(horas_estudio) - proyeccion_estudio)*promedio + min(notas)\n",
    "\n",
    "print(f'La nota máxima estimada si estudio {proyeccion_estudio} es de: {nota_estimada:.3f}')\n",
    "print(f'La nota mínima estimada si estudio {proyeccion_estudio} es de: {nota_min:.3f}')"
   ]
  }
 ],
 "metadata": {
  "kernelspec": {
   "display_name": "Python 3",
   "language": "python",
   "name": "python3"
  },
  "language_info": {
   "codemirror_mode": {
    "name": "ipython",
    "version": 3
   },
   "file_extension": ".py",
   "mimetype": "text/x-python",
   "name": "python",
   "nbconvert_exporter": "python",
   "pygments_lexer": "ipython3",
   "version": "3.13.1"
  }
 },
 "nbformat": 4,
 "nbformat_minor": 5
}
