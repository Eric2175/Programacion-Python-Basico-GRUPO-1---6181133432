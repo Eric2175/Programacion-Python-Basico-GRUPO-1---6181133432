{
 "cells": [
  {
   "cell_type": "markdown",
   "metadata": {},
   "source": [
    "\n",
    "# Ejercicio final: Extraer información de un archivo JSON usando expresiones regulares (regex)\n",
    "\n",
    "\n",
    "## Objetivo:\n",
    "\n",
    "El objetivo de este ejercicio es practicar la utilización de expresiones regulares (regex) para extraer información específica de un archivo JSON. El ejercicio se enfocará en la lectura y análisis de un archivo JSON que contiene información sobre clientes.\n",
    "\n",
    "## Descripción:\n",
    "\n",
    "### Obtener el archivo JSON:\n",
    "Lea archivo JSON 'clientes.json' que contiene la información sobre clientes. El archivo debe tener una estructura similar a la siguiente:"
   ]
  },
  {
   "cell_type": "code",
   "execution_count": 66,
   "metadata": {},
   "outputs": [
    {
     "data": {
      "text/plain": [
       "{'clientes': [{'nombre': 'Juan PÃ©rez',\n",
       "   'direccion': 'Calle Mayor 123',\n",
       "   'ciudad': 'San JosÃ©',\n",
       "   'telefono': '+506 2222-3333'},\n",
       "  {'nombre': 'MarÃ\\xada GÃ³mez',\n",
       "   'direccion': 'Avenida Central 456',\n",
       "   'ciudad': 'Alajuela',\n",
       "   'telefono': '+506 8888-4444'},\n",
       "  {'nombre': 'Pedro RamÃ\\xadrez',\n",
       "   'direccion': 'Barrio Escalante 789',\n",
       "   'ciudad': 'Heredia',\n",
       "   'telefono': '+506 5555-6666'},\n",
       "  {'nombre': 'Ana Castro',\n",
       "   'direccion': 'Avenida 10 Calle 5',\n",
       "   'ciudad': 'Cartago',\n",
       "   'telefono': '+506 3333-4444'},\n",
       "  {'nombre': 'Carlos JimÃ©nez',\n",
       "   'direccion': 'Calle Principal 12',\n",
       "   'ciudad': 'Liberia',\n",
       "   'telefono': '+506 6666-7777'},\n",
       "  {'nombre': 'Diana Solano',\n",
       "   'direccion': 'Barrio La UniÃ³n 78',\n",
       "   'ciudad': 'Puntarenas',\n",
       "   'telefono': '+506 9999-8888'}]}"
      ]
     },
     "execution_count": 66,
     "metadata": {},
     "output_type": "execute_result"
    }
   ],
   "source": [
    "{\n",
    "  \"clientes\": [\n",
    "    {\n",
    "      \"nombre\": \"Juan PÃ©rez\",\n",
    "      \"direccion\": \"Calle Mayor 123\",\n",
    "      \"ciudad\": \"San JosÃ©\",\n",
    "      \"telefono\": \"+506 2222-3333\"\n",
    "    },\n",
    "    {\n",
    "      \"nombre\": \"MarÃ­a GÃ³mez\",\n",
    "      \"direccion\": \"Avenida Central 456\",\n",
    "      \"ciudad\": \"Alajuela\",\n",
    "      \"telefono\": \"+506 8888-4444\"\n",
    "    },\n",
    "    {\n",
    "      \"nombre\": \"Pedro RamÃ­rez\",\n",
    "      \"direccion\": \"Barrio Escalante 789\",\n",
    "      \"ciudad\": \"Heredia\",\n",
    "      \"telefono\": \"+506 5555-6666\"\n",
    "    },\n",
    "    {\n",
    "      \"nombre\": \"Ana Castro\",\n",
    "      \"direccion\": \"Avenida 10 Calle 5\",\n",
    "      \"ciudad\": \"Cartago\",\n",
    "      \"telefono\": \"+506 3333-4444\"\n",
    "    },\n",
    "    {\n",
    "      \"nombre\": \"Carlos JimÃ©nez\",\n",
    "      \"direccion\": \"Calle Principal 12\",\n",
    "      \"ciudad\": \"Liberia\",\n",
    "      \"telefono\": \"+506 6666-7777\"\n",
    "    },\n",
    "    {\n",
    "      \"nombre\": \"Diana Solano\",\n",
    "      \"direccion\": \"Barrio La UniÃ³n 78\",\n",
    "      \"ciudad\": \"Puntarenas\",\n",
    "      \"telefono\": \"+506 9999-8888\"\n",
    "    }\n",
    "  ]\n",
    "}"
   ]
  },
  {
   "cell_type": "markdown",
   "metadata": {},
   "source": [
    "##"
   ]
  },
  {
   "cell_type": "markdown",
   "metadata": {},
   "source": [
    "## Extraer información usando regex:\n",
    "### Utilice expresiones regulares para extraer la siguiente información de cada cliente:\n",
    "- Nombre completo: Juan Pérez, María Gómez, Pedro Ramírez\n",
    "- Dirección completa: Calle Mayor 123, Avenida Central 456, Barrio Escalante 789\n",
    "- Ciudad: San José, Alajuela, Heredia\n",
    "- Número de teléfono: +506 2222-3333, +506 8888-4444, +506 5555-6666\n",
    "\n",
    "### Imprima la información extraída para cada cliente en un formato claro y organizado.\n",
    "\n",
    "\n",
    "## Pistas:\n",
    "\n",
    "- Utilice la librería re de Python para trabajar con expresiones regulares.\n",
    "- Defina patrones de expresión regular específicos para cada tipo de información que desea extraer.\n",
    "- Recorra el archivo JSON y aplique los patrones regex a cada cliente.\n",
    "- Utilize métodos como findall() o search() para encontrar las coincidencias en el texto."
   ]
  },
  {
   "cell_type": "code",
   "execution_count": 98,
   "metadata": {},
   "outputs": [
    {
     "name": "stdout",
     "output_type": "stream",
     "text": [
      "Nombre completo: Juan PÃ©rez.\n",
      "Dirección completa: Calle Mayor 123.\n",
      "Ciudad: San JosÃ©.\n",
      "Número de teléfono: +506 2222-3333.\n",
      "\n",
      "Nombre completo: MarÃ­a GÃ³mez.\n",
      "Dirección completa: Avenida Central 456.\n",
      "Ciudad: Alajuela.\n",
      "Número de teléfono: +506 8888-4444.\n",
      "\n",
      "Nombre completo: Pedro RamÃ­rez.\n",
      "Dirección completa: Barrio Escalante 789.\n",
      "Ciudad: Heredia.\n",
      "Número de teléfono: +506 5555-6666.\n",
      "\n",
      "Nombre completo: Ana Castro.\n",
      "Dirección completa: Avenida 10 Calle 5.\n",
      "Ciudad: Cartago.\n",
      "Número de teléfono: +506 3333-4444.\n",
      "\n",
      "Nombre completo: Carlos JimÃ©nez.\n",
      "Dirección completa: Calle Principal 12.\n",
      "Ciudad: Liberia.\n",
      "Número de teléfono: +506 6666-7777.\n",
      "\n",
      "Nombre completo: Diana Solano.\n",
      "Dirección completa: Barrio La UniÃ³n 78.\n",
      "Ciudad: Puntarenas.\n",
      "Número de teléfono: +506 9999-8888.\n",
      "\n"
     ]
    }
   ],
   "source": [
    "import json\n",
    "import re\n",
    "\n",
    "# Cargar el archivo JSON\n",
    "try:\n",
    "    with open(\"clientes.json\", \"r\", encoding=\"utf-8\") as archivo:\n",
    "        clientes = json.load(archivo)\n",
    "        cliente_nueva = json.dumps(clientes, ensure_ascii=False, indent=4)\n",
    "except FileNotFoundError as e:\n",
    "    print(f\"Error: El archivo JSON 'clientes.json' no se encontró.\")\n",
    "except json.JSONDecodeError as e:\n",
    "    print(f\"Error al decodificar el archivo JSON: {e}\")\n",
    "except Exception as e:\n",
    "    print(f\"Error inesperado: {e}\")\n",
    "\n",
    "# Paso 3: Guardar la cadena JSON en un archivo de texto como código (cadena)\n",
    "with open('archivo_clientes.txt', 'w', encoding='utf-8') as output_file:\n",
    "    # Escribir la cadena JSON como texto de código en el archivo\n",
    "    output_file.write(f'\"{cliente_nueva}\"')\n",
    "\n",
    "with open('archivo_clientes.txt','r',encoding='utf-8') as archivo:\n",
    "    archivo_clientes = archivo.read()\n",
    "\n",
    "# La expresión busca \"nombre\", \"direccion\", \"ciudad\", y \"telefono\" seguidos de los valores que contienen.\n",
    "patron = r'\"nombre\":\\s*\"([^\"]+)\"| \"direccion\":\\s*\"([^\"]+)\"| \"ciudad\":\\s*\"([^\"]+)\"| \"telefono\":\\s*\"([^\"]+)\"'\n",
    "\n",
    "# Buscar todas las coincidencias con la expresión regular\n",
    "coincidencias = re.findall(patron, archivo_clientes)\n",
    "\n",
    "# Imprimir los resultados de las coincidencias\n",
    "for i in range(0, len(coincidencias), 4):\n",
    "    nombre = coincidencias[i][0]  # El nombre siempre estará en la primera captura\n",
    "    direccion = coincidencias[i+1][1]  # Dirección en la segunda\n",
    "    ciudad = coincidencias[i+2][2]  # Ciudad en la tercera\n",
    "    telefono = coincidencias[i+3][3]  # Teléfono en la cuarta\n",
    "    print(f\"Nombre completo: {nombre}.\")\n",
    "    print(f\"Dirección completa: {direccion}.\")\n",
    "    print(f\"Ciudad: {ciudad}.\")\n",
    "    print(f\"Número de teléfono: {telefono}.\\n\")"
   ]
  }
 ],
 "metadata": {
  "kernelspec": {
   "display_name": "Python 3",
   "language": "python",
   "name": "python3"
  },
  "language_info": {
   "codemirror_mode": {
    "name": "ipython",
    "version": 3
   },
   "file_extension": ".py",
   "mimetype": "text/x-python",
   "name": "python",
   "nbconvert_exporter": "python",
   "pygments_lexer": "ipython3",
   "version": "3.13.1"
  }
 },
 "nbformat": 4,
 "nbformat_minor": 2
}
