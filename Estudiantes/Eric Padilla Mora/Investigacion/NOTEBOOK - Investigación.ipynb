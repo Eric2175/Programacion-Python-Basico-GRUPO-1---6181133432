{
 "cells": [
  {
   "cell_type": "markdown",
   "metadata": {},
   "source": [
    "# Universidad Nacional\n",
    "# Curso: Programación Python Básico\n",
    "## NOTEBOOK - Tarea de investigación\n",
    "## Profesor Andrés Mena Abarca\n",
    "## Investigación: Funciones en Python en el Desarrollo de Software\n",
    "## Nombre del estudiante: Eric Padilla Mora\n",
    "\n",
    "### Planteamiento del Problema\n",
    "Las funciones en Python son una herramienta esencial en la programación estructurada y funcional. Su correcto uso permite mejorar la reutilización del código, modularización y escalabilidad de los programas. Sin embargo, muchos estudiantes desconocen las mejores prácticas en su implementación y el impacto en la eficiencia del código.\n",
    "### Pregunta de investigación:\n",
    "¿Cómo influyen las funciones en Python en la modularización y eficiencia de los programas en desarrollo de software?\n",
    "# ________________________________________\n",
    "## Introducción:\n",
    "  Las funciones en Python son una herramienta esencial en la programación estructurada y funcional. Su correcto uso permite mejorar la reutilización del código, modularización y escalabilidad de los programas. Por tanto es fundamenta que en su implementación no se desconocan las mejores prácticas y el impacto en la eficiencia del código.\n",
    "\n",
    "  Por lo que en este notebook se explora el uso de funciones en Python, su importancia en la programación modular y su impacto en la eficiencia del código.\n",
    "\n",
    "### Temáticas\n",
    "* 3.1 Definición y Propósito de las Funciones en Python\n",
    "  * ✅ ¿Qué son las funciones?\n",
    "  * ✅ Beneficios de modularizar código con funciones. \n",
    "  * ✅ Importancia de la reutilización del código.\n",
    "* 3.2 Tipos de Funciones en Python\n",
    "  * ✅ Funciones con y sin retorno.\n",
    "  * ✅ Funciones con parámetros y valores predeterminados.\n",
    "  * ✅ Uso de *args y **kwargs.\n",
    "  * ✅ Funciones anónimas (lambda).\n",
    "  * ✅ Funciones recursivas.\n",
    "  * ✅ Generadores (yield).\n",
    "  * ✅ Closures y decoradores.\n",
    "* 3.3 Aplicación de Funciones en Problemas Reales\n",
    "  * ✅ Aplicación en estructuras de datos (listas, diccionarios).\n",
    "  * ✅ Uso de funciones en procesamiento de datos.\n",
    "  * ✅ Optimización del rendimiento con funciones. \n",
    "  * ✅ Comparación entre funciones definidas por el usuario y funciones integradas (len(), sum(), etc.).\n",
    "* Sección 3: Conclusiones\n",
    "  * ✅ Un resumen de hallazgos sobre la teoría y la práctica.\n",
    "  * ✅ Un análisis personal sobre qué aprendieron del uso de funciones en Python.\n",
    "  * ✅ Una sección de referencias con enlaces o libros consultados.\n",
    "---"
   ]
  },
  {
   "cell_type": "markdown",
   "metadata": {},
   "source": [
    "## 1.1 Definición y Propósito de las Funciones en Python\n",
    "# _____________________________________________________________\n",
    "### 1.1.1 ¿Qué son las funciones en Python?\n",
    "\n",
    "De acuerdo con Chaves (2022) las funciones de Python son un código que se utiliza en un programa desarrollado en este lenguaje para cumplir un objetivo específico, para lo cual obtienen datos de entrada llamados argumentos, los procesan utilizando diferentes fórmulas y algoritmos matemáticos, y ofrecen datos de salida valiosos. Además, permiten encapsular código reutilizable, mejorando la modularización y eficiencia en el desarrollo de software.\n",
    "\n",
    "Cualquier función tendrá un nombre, unos argumentos de entrada, un código a ejecutar y unos parámetros de salida. Al igual que las funciones matemáticas, en programación nos permiten realizar diferentes operaciones con la entrada, para entregar una determinada salida que dependerá del código que se escribe. Por lo tanto, es totalmente análogo al clásico $y=f(x)$ de las matemáticas.\n",
    "\n",
    "Sus tres elementos básicos son: def nombre_funcion(argumentos):, el código y return retorno.\n",
    "\n",
    "Un ejemplo se muestra a continuación, en el hay dos situaciones: una función que imprime un saludo y otra que solicita un número cualquiera y devuelve el doble.\n",
    "\n",
    "### Referencias.\n",
    "* Chaves, S. (2022). ¿Cuáles son las principales funciones en Python?. https://formadoresit.es/cuales-son-las-principales-funciones-en-python/sd. \n",
    "* Severance, C. (2020). Python para todos Explorando la información con Python 3. https://do1.dr-chuck.com/pythonlearn/ES_es/pythonlearn.pdf\n",
    "\n",
    "A continuación se muestra un ejemplo de funciones: "
   ]
  },
  {
   "cell_type": "code",
   "execution_count": 20,
   "metadata": {},
   "outputs": [
    {
     "name": "stdout",
     "output_type": "stream",
     "text": [
      "¡Hola, bienvenido vamos a determinar el doble de un número!\n",
      "El doble de su número corresponde a 102\n"
     ]
    }
   ],
   "source": [
    "# Saludar y determinar el doble del un número.\n",
    "def saludar():\n",
    "    print(\"¡Hola, bienvenido vamos a determinar el doble de un número!\")\n",
    "saludar()\n",
    "\n",
    "def f(x):\n",
    "    x = int(input('Escriba un número cualquiera:' ))\n",
    "    return 2*x\n",
    "y = f(5)\n",
    "print(f'El doble de su número corresponde a {y}') #"
   ]
  },
  {
   "cell_type": "markdown",
   "metadata": {},
   "source": [
    "# _____________________________________________________________\n",
    "### 1.1.2 Beneficios de modular con funciones\n",
    "\n",
    "La programación modular ofrece beneficios como mejor legibilidad del código, reutilización y mayor facilidad de depuración y mantenimiento. La programación modular es una técnica de diseño de software que pone énfasis en separar la funcionalidad de un programa en módulos independientes e intercambiables.\n",
    "\n",
    "Según se indica en el artículo ¿Cuáles son los beneficios de la programación modular?, algunas de las ventajas de modular con funciones son:\n",
    "* En primer lugar, la programación modular mejora la legibilidad del código. Al dividir un sistema complejo en módulos más pequeños y manejables, resulta más fácil comprender la estructura y la funcionalidad generales del programa. Cada módulo tiene una función específica e interactúa con los demás módulos de formas bien definidas. Esto hace que el código sea más fácil de leer y comprender, lo que resulta especialmente beneficioso cuando se trabaja en proyectos grandes o cuando participan varios desarrolladores.\n",
    "* En segundo lugar, los módulos son reutilizables. Una vez que se ha escrito y probado un módulo, se puede reutilizar en otras partes del programa o incluso en otros programas. Esto puede reducir significativamente el tiempo y el esfuerzo de desarrollo, ya que no es necesario volver a escribir el mismo código. También garantiza la coherencia, ya que el mismo módulo se comportará de la misma manera dondequiera que se utilice.\n",
    "* En tercer lugar, la programación modular facilita la depuración y el mantenimiento. Si ocurre un problema, es más fácil identificarlo y solucionarlo en un módulo específico en lugar de en una base de código grande y monolítica. De manera similar, si es necesario realizar un cambio, a menudo se puede hacer en un módulo sin afectar a los demás. Esto reduce el riesgo de introducir nuevos errores al realizar cambios.\n",
    "\n",
    "En el caso específico de los módulos en Python estos son ficheros .py que alberga un conjunto de funciones, variables o clases y que puede ser usado por otros módulos. De esta forma permiten reutilizar código y organizarlo mejor. Por ejemplo, podemos definir un módulo mimodulo.py una vez definido, dicho módulo puede ser usado o importado en otro fichero, para ello se llama al comando import para importar todo el contenido.\n",
    "\n",
    "### Referencias.\n",
    "* Severance, C. (2020). Python para todos Explorando la información con Python 3. https://do1.dr-chuck.com/pythonlearn/ES_es/pythonlearn.pdf\n",
    "\n",
    "* TutorCache. (sf). What are the benefits of modular programming?. https://www-tutorchase-com.translate.goog/answers/ib/computer-science/what-are-the-benefits-of-modular-programming?_x_tr_sl=en&_x_tr_tl=es&_x_tr_hl=es&_x_tr_pto=tc&_x_tr_hist=true"
   ]
  },
  {
   "cell_type": "code",
   "execution_count": 32,
   "metadata": {},
   "outputs": [
    {
     "name": "stdout",
     "output_type": "stream",
     "text": [
      "La suma da: 7\n",
      "La resta da: -19\n"
     ]
    }
   ],
   "source": [
    "# Ejemplo de modular funciones\n",
    "import modulo\n",
    "print(f'La suma da:', modulo.suma(4, 3))   # 7\n",
    "print(f'La resta da:', modulo.resta(-10, 9)) # 1"
   ]
  },
  {
   "cell_type": "markdown",
   "metadata": {
    "id": "aXc-HjBfC2Co"
   },
   "source": [
    "# _____________________________________________________________\n",
    "### 1.1.3 Importancia de la reutilización de código\n",
    "La reutilización de código permite incorporar fragmentos, bloques y componentes en lugar de empezar desde cero cada vez que se necesita código. Esta práctica ahorra tiempo y recursos al reutilizar el mismo código en diferentes proyectos.\n",
    "\n",
    "De acuerdo con Gonsalez, C. (sf), algunos de los beneficios más notables incluyen:\n",
    "* Calidad y confiabilidad mejoradas: cuando se reutiliza el código, ya se ha probado y se ha demostrado que funciona. Como tal, reduce las posibilidades de que sus desarrolladores introduzcan errores en su programa.\n",
    "* Reducción de tiempo y esfuerzo: Reutilizar el código puede ahorrarle tiempo y esfuerzo, porque si el código ya existe, no tiene que desarrollar su programa desde cero. Su equipo puede utilizar el tiempo ahorrado para centrarse en la creación de nuevas características o funciones.\n",
    "* Complejidad reducida: La reutilización de código también puede ayudar a reducir la complejidad general de su sistema al proporcionar una forma estándar para que los módulos interactúen entre sí.\n",
    "* Mantenibilidad mejorada: si diseña código nuevo para que sea reutilizable, será más fácil de mantener y modificar que el código diseñado específicamente para un solo proyecto. Esto se debe a que el código reutilizable debe ser altamente cohesivo, tener acoplamiento flojo y ser modular.\n",
    "* Rentabilidad: La reutilización del código también puede ahorrarle dinero porque, por lo general, es menos costoso que escribir código nuevo desde cero.\n",
    "* Aprendizaje mejorado: El código reutilizable proporciona una buena manera para que los nuevos desarrolladores aprendan cómo funciona un sistema y cómo se relacionan las diferentes partes.\n",
    "* Mejor organización: El código bien estructurado puede ayudar a mejorar la organización del sistema al permitir que diferentes partes de un proyecto se reutilicen juntas, lo que significa que podría llegar a reutilizar módulos completos.\n",
    "* Dependencia reducida: La creación de su propio código reutilizable también puede reducir la dependencia de desarrolladores, bibliotecas o plataformas específicos, lo que le brinda más control sobre su código reutilizable.\n",
    "\n",
    "### Referencia\n",
    "* Gonsalez, C. (sf). Reutilización de Código: Qué es, Cómo Funciona y Más. https://saberpunto.com/desarrollo/que-es-la-reutilizacion-de-codigo-y-como-maximizar-el-desarrollo-de-software/\n",
    "\n",
    "\n"
   ]
  },
  {
   "cell_type": "code",
   "execution_count": null,
   "metadata": {
    "colab": {
     "base_uri": "https://localhost:8080/"
    },
    "executionInfo": {
     "elapsed": 10485,
     "status": "ok",
     "timestamp": 1712064323417,
     "user": {
      "displayName": "Andrés Mena Abarca",
      "userId": "07418092259593836578"
     },
     "user_tz": 360
    },
    "id": "n3rOsUESDeTs",
    "outputId": "1cd40ed7-f1d2-4b89-bca5-696418df0021"
   },
   "outputs": [
    {
     "name": "stdout",
     "output_type": "stream",
     "text": [
      "\n",
      "El total a pagar por cumpar es de 10422.0 colones.\n",
      "Gracias por utilizar nuestros servicios\n",
      "\n",
      "----------------------------------------------------------\n"
     ]
    }
   ],
   "source": [
    "# Cógido reutilizado a partir de una tarea anterior del curso\n",
    "inicio = input('\\n¿Desea ingresar el precio de un producto? (Escriba \"S\" para sí o \"N\" para no):' )\n",
    "precio = 0\n",
    "while inicio == \"S\" or inicio == \"s\":\n",
    "    a = float(input('\\nIngrese el precio del producto (Use el punto para los decimales):' ))\n",
    "    precio = precio + a\n",
    "    inicio = input('\\n¿Desea ingresar el precio de un producto? (Escriba \"S\" para sí o \"N\" para no):' )\n",
    "else:\n",
    "    print(f'\\nEl total a pagar por cumpar es de {precio} colones.')\n",
    "    print('Gracias por utilizar nuestros servicios\\n')\n",
    "    print('----------------------------------------------------------')"
   ]
  },
  {
   "cell_type": "markdown",
   "metadata": {},
   "source": [
    "---"
   ]
  },
  {
   "cell_type": "markdown",
   "metadata": {},
   "source": [
    "## 1.2 Tipos de Funciones en Python\n",
    "# _____________________________________________________________\n",
    "### 1.2.1 Funciones con y sin retorno.\n",
    "\n",
    "Las funciones con retorno en Python son bloques de código que realizan tareas específicas y luego devuelven un valor o conjunto de valores al lugar donde fueron llamadas. En Python, se utiliza la instrucción return para especificar qué valor debe ser devuelto por la función.\n",
    "\n",
    "Por su parte las funciones sin retorno en Python son bloques de código que realizan tareas específicas pero no devuelven un valor o conjunto de valores al lugar donde fueron llamadas. Esto dado que el objetivo es que realicen una tarea que puede ser utiliza en otro código. en este no se utiliza la instrucción return. Las funciones de Python sin retorno se utilizan a menudo cuando se desea procesar datos pero no es necesario que la función devuelva ningún valor. Este tipo de función se puede utilizar cuando se necesita realizar una sola tarea dentro de una aplicación, como el manejo de errores, los cálculos básicos o el procesamiento de la entrada del usuario. Las funciones sin retorno también ayudan a mejorar el rendimiento de la aplicación, ya que requieren menos recursos que las funciones que devuelven valores.\n",
    "\n",
    "A continuación se muestran algunos ejemplos:\n",
    "\n",
    "### Referencias\n",
    "* Casero, A. (2024.). Conoce las funciones de retorno en Python. https://keepcoding.io/blog/funciones-de-retorno-en-python/\n",
    "* Nisha Kumari. (sf). Función Python sin retorno: explicación de Python. https://bito-ai.translate.goog/resources/python-function-without-return-python-explained/?_x_tr_sl=en&_x_tr_tl=es&_x_tr_hl=es&_x_tr_pto=tc"
   ]
  },
  {
   "cell_type": "code",
   "execution_count": 35,
   "metadata": {
    "id": "By8jW6m9EHif",
    "outputId": "f40dd5ab-578c-4153-c3e9-0cde8eadad97"
   },
   "outputs": [
    {
     "name": "stdout",
     "output_type": "stream",
     "text": [
      "El promedio de 45 y 87 es: 66.0\n",
      "Programa terminado\n"
     ]
    }
   ],
   "source": [
    "#Ejemplo de función con retorno\n",
    "def escribe_promedio():\n",
    "    media = (a + b) / 2\n",
    "    print(f\"El promedio de {a} y {b} es: {media}\")\n",
    "    return\n",
    "\n",
    "a = 45\n",
    "b = 87\n",
    "escribe_promedio()\n",
    "print(\"Programa terminado\")\n",
    "\n",
    "#Ejemplo de función sin retorno\n",
    "def imprmir_estado(estado, veces):\n",
    "    for i in range(veces):\n",
    "        print(estado, end=\"\")"
   ]
  },
  {
   "cell_type": "markdown",
   "metadata": {},
   "source": [
    "# _____________________________________________________________\n",
    "### 1.2.2 Funciones con parámetros y valores predeterminados.\n",
    "Los parámetros de función son los valores que se pasan a una función cuando se la llama. Python de acuerdo con Radhika (2024) admite numerosos tipos de parámetros:\n",
    "\n",
    "* Los parámetros posicionales son los más utilizados y se pasan en secuencia.\n",
    "* Los argumentos de palabras clave se especifican utilizando un nombre en la llamada, como  clave=valor .\n",
    "* Los parámetros predeterminados son aquellos que tienen un valor predeterminado si el llamador no especifica uno.\n",
    "* Parámetros opcionales: Parámetros que aceptan un número variable de argumentos a través de  *args  y **kwargs .\n",
    "\n",
    "Un  parámetro predeterminado es aquel que tiene un valor establecido (predeterminado) establecido durante la definición de la función. Si el autor de la llamada no especifica un valor para esta opción, se utiliza el valor predeterminado. Esto permite llamadas de función más flexibles y reduce la necesidad de sobrecargar las funciones.\n",
    "\n",
    "A continuación se brinda un ejemplo:\n",
    "\n",
    "### Referencias\n",
    "* Radhika, V. (2024). Parámetros predeterminados y opcionales en Python: ¿cuál es la diferencia?. https://www-index-dev.translate.goog/blog/default-vs-optional-parameters-python?_x_tr_sl=en&_x_tr_tl=es&_x_tr_hl=es&_x_tr_pto=tc&_x_tr_hist=true\n"
   ]
  },
  {
   "cell_type": "code",
   "execution_count": 25,
   "metadata": {},
   "outputs": [
    {
     "name": "stdout",
     "output_type": "stream",
     "text": [
      "Hola, invitado!\n",
      "Hola, Eric!\n"
     ]
    }
   ],
   "source": [
    "# función con parámetros y con valores predeterminados\n",
    "def saludo(nombre=\"invitado\"):\n",
    "    print(f\"Hola, {nombre}!\")\n",
    "\n",
    "saludo()  # salida Hola, invitado!\n",
    "saludo(\"Eric\")  # Output: Hello, Alice!"
   ]
  },
  {
   "cell_type": "markdown",
   "metadata": {},
   "source": [
    "# _____________________________________________________________\n",
    "## 1.2.3 Uso de *args y **kwargs.\n",
    "Si bien los parámetros predeterminados le permiten proporcionar valores predefinidos, los parámetros opcionales le permiten enviar una cantidad variable de argumentos a una función. Python tiene dos mecanismos sólidos para administrar parámetros opcionales:  *args y **kwargs.\n",
    "\n",
    "* args: pasa un número configurable de argumentos posicionales. \n",
    "* kwargs: permite pasar múltiples argumentos de palabras clave. "
   ]
  },
  {
   "cell_type": "code",
   "execution_count": 20,
   "metadata": {},
   "outputs": [
    {
     "name": "stdout",
     "output_type": "stream",
     "text": [
      "El total que se obtiene al sumar 101, 204 y 32099 es: 32404\n",
      "El total que se obtiene al sumar 5, 10, 15 y 20 es: 50\n",
      "\n",
      "Nombre: Eric\n",
      "Edad: 25\n",
      "Cuidad: Cartago\n"
     ]
    }
   ],
   "source": [
    "#args Ejemplo:\n",
    "\n",
    "def suma(*numbers):\n",
    "    total = 0\n",
    "    for num in numbers:\n",
    "        total += num\n",
    "    return total\n",
    "\n",
    "print(f'El total que se obtiene al sumar 101, 204 y 32099 es: {suma(101, 204, 32099)}')  # Output: 6\n",
    "print(f'El total que se obtiene al sumar 5, 10, 15 y 20 es: {suma(5, 10, 15, 20)}\\n')  # Output: 50\n",
    "\n",
    "\n",
    "# kwargs Ejemplo:\n",
    "\n",
    "def impri_infor(**info):\n",
    "    for llave, valor in info.items():\n",
    "        print(f\"{llave}: {valor}\")\n",
    "\n",
    "impri_infor(Nombre=\"Eric\", Edad=25, Cuidad =\"Cartago\")"
   ]
  },
  {
   "cell_type": "markdown",
   "metadata": {},
   "source": [
    "# _____________________________________________________________\n",
    "## 1.2.4 Funciones anónimas (lambda).\n",
    "Las funciones lambda en Python son herramientas potentes y concisas para crear pequeñas funciones anónimas sobre la marcha. Son perfectas para simplificar tareas a corto plazo, agilizar el código con funciones de orden superior como map, filter, o sorted, y reducir el desorden al definir lógica temporal o desechable. También ofrecen una solución elegante para mejorar la legibilidad del código en situaciones sencillas. (Pedigo, 2025, p. 1)\n",
    "\n",
    "Difieren de las funciones estándar de Python en varios aspectos. \n",
    "* Son expresiones anónimas, lo que significa que no tienen nombre a menos que se asignen explícitamente a una variable. \n",
    "* También son más concisas y se definen en una sola línea sin necesidad de una declaración return .\n",
    "\n",
    "En ejemplo, mofidicado de Pedigo (2025), se muestra a continuación:\n",
    "\n",
    "### Referencias\n",
    "* Pedigo, M. (2025). Funciones lambda de Python: Guía para principiantes. https://www.datacamp.com/es/tutorial/python-lambda-functions"
   ]
  },
  {
   "cell_type": "code",
   "execution_count": 24,
   "metadata": {},
   "outputs": [
    {
     "name": "stdout",
     "output_type": "stream",
     "text": [
      "Chequeo: 1 -> False\n",
      "Chequeo: 2 -> False\n",
      "Chequeo: 3 -> False\n",
      "Chequeo: 4 -> True\n",
      "Chequeo: 5 -> True\n",
      "Chequeo: 6 -> True\n",
      "Chequeo: 7 -> True\n",
      "Chequeo: 8 -> True\n",
      "Chequeo: 9 -> True\n",
      "Chequeo: 10 -> True\n",
      "[4, 5, 6, 7, 8, 9, 10]\n"
     ]
    }
   ],
   "source": [
    "números = [1, 2, 3, 4, 5, 6, 7, 8, 9, 10]\n",
    "# Función lambda con print para depurar valores intermedios\n",
    "numeros_filtrados = filter(lambda x: (print(f'Chequeo: {x} -> {x >= 4}'), x >= 4)[1], números)\n",
    "\n",
    "# Convertir objeto de filtro en lista para forzar la evaluación\n",
    "print(list(numeros_filtrados))"
   ]
  },
  {
   "cell_type": "markdown",
   "metadata": {},
   "source": [
    "# _____________________________________________________________\n",
    "### 1.2.5 Funciones recursivas.\n",
    "La recursividad es una técnica utilizada en programación para resolver problemas que implican la repetición de un proceso, como la búsqueda o el cálculo matemático. En lugar de una solución iterativa, la recursión utiliza funciones que se llaman a sí mismas para encontrar la solución final.\n",
    "\n",
    "En Python, se puede implementar la recursividad utilizando funciones recursivas, que son funciones que se llaman a sí mismas directa o indirectamente. Estas funciones se detienen cuando alcanzan un caso base, es decir, una condición que les indica que deben dejar de llamarse a sí mismas y devolver un valor. Funcionan de forma similar a las iteraciones, pero se debe de planificar el momento en que dejan de llamarse a sí mismas o se tendrá una función rescursiva infinita.\n",
    "\n",
    "Suele utilizarse para dividir una tarea en subtareas más simples de forma que sea más fácil abordar el problema y solucionarlo.\n",
    "\n",
    "Dos ejemplos se muestran a continuación: uno para cuenta regresiva y otro para el factorial de $n$. \n",
    "\n",
    "### Referencias\n",
    "* Apuntes de programador. (sf). Recursividad y funciones recursivas en Python: soluciones eficientes y elegantes. https://apuntes.de/python/recursividad-y-funciones-recursivas-en-python-soluciones-eficientes-y-elegantes/#gsc.tab=0\n",
    "* Costa, H. (2018). Funciones recursivas. https://docs.hektorprofe.net/python/programacion-de-funciones/funciones-recursivas/"
   ]
  },
  {
   "cell_type": "code",
   "execution_count": 58,
   "metadata": {},
   "outputs": [
    {
     "name": "stdout",
     "output_type": "stream",
     "text": [
      "4\n",
      "3\n",
      "2\n",
      "1\n",
      "¡Feliz año!\n",
      "\n",
      "Fin del conteo 0\n",
      "Fin del conteo 1\n",
      "Fin del conteo 2\n",
      "Fin del conteo 3\n",
      "Fin del conteo 4\n",
      "\n",
      "-------------\n",
      "\n",
      " El valor del factorial del número escrito en el argumento de factorial corresponde a:\n"
     ]
    },
    {
     "data": {
      "text/plain": [
       "39916800"
      ]
     },
     "execution_count": 58,
     "metadata": {},
     "output_type": "execute_result"
    }
   ],
   "source": [
    "# Hace una cuanta regresiva\n",
    "def cuenta_regresiva(numero):\n",
    "    numero -= 1\n",
    "    if numero > 0:\n",
    "        print(numero)\n",
    "        cuenta_regresiva(numero)\n",
    "    else:\n",
    "        print(\"¡Feliz año!\\n\")\n",
    "    print(\"Fin del conteo\", numero)\n",
    "        \n",
    "cuenta_regresiva(5)\n",
    "\n",
    "# Determina el factorial de cierto número\n",
    "def factorial(n):\n",
    "    if n == 1:\n",
    "        return 1\n",
    "    else:\n",
    "        return n * factorial(n-1)\n",
    "print('\\n-------------')\n",
    "print(f'\\n El valor del factorial del número escrito en el argumento de factorial corresponde a:')\n",
    "factorial(11) "
   ]
  },
  {
   "cell_type": "markdown",
   "metadata": {},
   "source": [
    "# _____________________________________________________________\n",
    "### 1.2.6 Generadores (yield).\n",
    "\n",
    "Para Hurtado (2013), cuando se trabaja con funciones (también llamadas subrutinas), la ejecución comienza en la primera línea y continúa hasta que encuentra un return, exception o el fin de la función. Estas subrutinas devuelven un solo valor a la vez y retornan el control de la ejecución. ¿Cómo hacer si qse requiere retornar una serie de valores en vez de un sólo valor? ¿Y cómo hacer si además se requiere que la función recupere el control de la ejecución? Es ahí donde entran en juego los generadores.\n",
    "\n",
    "Lo generadores son funciones que permiten obtener sus resultados poco a poco. Es decir, cada vez que llamemos a la función brinda un nuevo resultado. \n",
    "\n",
    "Una función generadora se diferencia de una función normal en que tras ejecutar el yield, la función devuelve el control a quién la llamó, pero la función es pausada y el estado (valor de las variables) es guardado. Esto permite que su ejecución pueda ser reanudada más adelante.\n",
    "\n",
    "Por tanto una función que contiene al menos una sentencia yield, se convertirá en una función generadora. \n",
    "\n",
    "Así una difrencia es que los generadores usan yield en vez de return. Dentro de sus utilidades esta el pemritir generar datos en tiempo de ejecución, acelerar búsquedas y crear bucles más rápidos.\n",
    "\n",
    "A continuación un ejemplo. modificado de Jamilis (2020):\n",
    "\n",
    "### Refencias\n",
    "* Hurtado, H. (2013). Generadores en Python. https://alvarohurtado.es/2013/08/31/generadores-en-python/\n",
    "* Jamilis, A. (2020). Python: generadores y yield. https://medium.com/flux-it-thoughts/python-generadores-y-yield-c7ef66d44a94"
   ]
  },
  {
   "cell_type": "code",
   "execution_count": 27,
   "metadata": {},
   "outputs": [
    {
     "name": "stdout",
     "output_type": "stream",
     "text": [
      "Gen: ceder 1\n",
      "Para: Yo tengo 1\n",
      "Para: Como el generador está en pausa, puedo hacer algunos cálculos\n",
      "Para: 1 * 10 = 10\n",
      "\n",
      "Gen: ceder 2\n",
      "Para: Yo tengo 2\n",
      "Para: Como el generador está en pausa, puedo hacer algunos cálculos\n",
      "Para: 2 * 10 = 20\n",
      "\n",
      "Gen: ceder 3\n",
      "Para: Yo tengo 3\n",
      "Para: Como el generador está en pausa, puedo hacer algunos cálculos\n",
      "Para: 3 * 10 = 30\n",
      "\n"
     ]
    }
   ],
   "source": [
    "# Ejemplo modificado de Jamilis, A. (2023)\n",
    "def mygenerator():\n",
    "    print(\"Gen: ceder 1\")\n",
    "    yield 1\n",
    "\n",
    "    print(\"Gen: ceder 2\")\n",
    "    yield 2\n",
    "    \n",
    "    print(\"Gen: ceder 3\")\n",
    "    yield 3\n",
    "\n",
    "\n",
    "gen = mygenerator()\n",
    "for n in gen:\n",
    "    print(f\"Para: Yo tengo {n}\")\n",
    "    print(\"Para: Como el generador está en pausa, puedo hacer algunos cálculos\")\n",
    "    print(f\"Para: {n} * 10 = {n * 10}\") \n",
    "    print()"
   ]
  },
  {
   "cell_type": "markdown",
   "metadata": {},
   "source": [
    "# _____________________________________________________________\n",
    "### 1.2.7 Closures y decoradores.\n",
    "Cierres en Python\n",
    "\n",
    "En el artículo Cierres y decoradores en Python se señala que : en Python, se produce un cierre cuando una función anidada captura las variables locales de su ámbito de inclusión. Esto permite que la función anidada acceda a estas variables incluso después de que la función externa haya terminado de ejecutarse. Los cierres y decoradores son características potentes de Python que permiten patrones de código más avanzados y flexibles.\n",
    "\n",
    "Además, se indica que: los decoradores de Python se prefieren a los cierres por su legibilidad, reutilización y flexibilidad. Los decoradores transmiten claramente la intención de modificar una función con la sintaxis @decorator_name, manteniendo el código limpio y centrado. Promueven la modularidad, lo que permite que el mismo decorador se reutilice fácilmente en múltiples funciones. Los decoradores también pueden preservar los metadatos de la función original, lo que es importante para la depuración. Además, los decoradores se pueden parametrizar y apilar para componer varios comportamientos de manera eficiente, lo que los convierte en una herramienta más poderosa y versátil en comparación con los cierres.\n",
    "\n",
    "Los cierres se crean cuando:\n",
    "* Hay una función anidada.\n",
    "* La función anidada hace referencia a un valor en su ámbito circundante.\n",
    "* La función envolvente devuelve la función anidada.\n",
    "\n",
    "Dos ejemplos se muestran a continuación:\n",
    "### Referencias\n",
    "* sd. (2024). Cierres y decoradores en Python. https://www-geeksforgeeks-org.translate.goog/closures-and-decorators-in-python/?_x_tr_sl=en&_x_tr_tl=es&_x_tr_hl=es&_x_tr_pto=tc "
   ]
  },
  {
   "cell_type": "code",
   "execution_count": 64,
   "metadata": {},
   "outputs": [
    {
     "name": "stdout",
     "output_type": "stream",
     "text": [
      "¡Hola, saludos!\n"
     ]
    }
   ],
   "source": [
    "# code\n",
    "def outer_function(msg):\n",
    "    mensage = msg\n",
    "    \n",
    "    def inner_function():\n",
    "        print(mensage)\n",
    "    \n",
    "    return inner_function\n",
    "\n",
    "closure = outer_function(\"¡Hola, saludos!\")\n",
    "closure()  # Output: Hola, saludos!"
   ]
  },
  {
   "cell_type": "code",
   "execution_count": 69,
   "metadata": {},
   "outputs": [
    {
     "name": "stdout",
     "output_type": "stream",
     "text": [
      "Algo está sucediendo antes de que se llame a la función.\n",
      "\n",
      "Hola!\n",
      "\n",
      "Algo está sucediendo antes de que se llame a la función.\n",
      "\n"
     ]
    }
   ],
   "source": [
    "# code\n",
    "def simple_decorator(func):\n",
    "    def wrapper():\n",
    "        print(\"Algo está sucediendo antes de que se llame a la función.\\n\")\n",
    "        func()\n",
    "        print(\"Algo está sucediendo antes de que se llame a la función.\\n\")\n",
    "    return wrapper\n",
    "\n",
    "@simple_decorator\n",
    "def say_hello():\n",
    "    print(\"Hola!\\n\")\n",
    "\n",
    "say_hello()"
   ]
  },
  {
   "cell_type": "markdown",
   "metadata": {},
   "source": [
    "# _____________________________________________________________\n",
    "## 2.3 Aplicación de Funciones en Problemas Reales\n",
    "### 2.3.1 Aplicación en estructuras de datos (listas, diccionarios).\n",
    "\n",
    "De acuerdo con Meza (2021) los diccionarios en Python forman parte de lo que se conoce como estructuras de datos, por lo que los diccionarios no son más que listas asociativas o listas con llaves, donde cada llave es un identificador único de una posición de la lista. Básicamente, en lugar de usar números de 0 a N, se usan llaves que pueden ser strings generalmente.\n",
    "\n",
    "Además señala que por lo general, la lógica es la misma que se maneja en las listas y su propósito es el mismo. Sin embargo, los diccionarios en Python nos permiten organizar e identificar de manera única las posiciones de la lista, usando lo que se conoce como llaves.\n",
    "\n",
    "Los diccionarios o listas asociativas, nos permiten crear una lista indicando nombres únicos y fáciles de recordar y asociar en nuestro código. Un diccionario puede almacenar múltiples elementos en su interior, lo cual incluye otros diccionarios o listas o datos primitivos.\n",
    "\n",
    "Dos ejemplos modificados de Meza (2021), se muestran a continuación:\n",
    "### Referencia\n",
    "* Meza, J. (2021). Diccionarios (listas asociativas) en Python. Uso y creación de diccionarios en Python. https://www.programarya.com/Cursos/Python/estructuras-de-datos/diccionarios\n"
   ]
  },
  {
   "cell_type": "code",
   "execution_count": 28,
   "metadata": {},
   "outputs": [
    {
     "name": "stdout",
     "output_type": "stream",
     "text": [
      "El nombre es: Eric\n",
      "Y tiene por usuario: jn123\n",
      "\n",
      " ----------\n",
      "\n",
      "Nombre: Eric\n",
      "Edad: 38\n",
      "Usuario: jn23\n",
      "Fruta: Melocotón\n"
     ]
    }
   ],
   "source": [
    "# Modificados de Meza (2021)\n",
    "mi_diccionario = {\n",
    "    \"nombre\": \"Eric\",\n",
    "    \"usuario\": \"jn123\",\n",
    "}\n",
    "\n",
    "# Muestra Juan\n",
    "print(f'El nombre es: {mi_diccionario[\"nombre\"]}')\n",
    "\n",
    "# Muestra jn123\n",
    "print(f'Y tiene por usuario: {mi_diccionario[\"usuario\"]}')\n",
    "print('\\n ----------\\n')\n",
    "\n",
    "#Otro dicionario\n",
    "mi_diccionario = {\n",
    "    \"Nombre\": \"Eric\",\n",
    "    \"Edad\": \"38\",\n",
    "    \"Usuario\": \"jn23\",\n",
    "    \"Fruta\" : \"Melocotón\"\n",
    "}\n",
    "\n",
    "# Recorriendo los elementos\n",
    "\n",
    "for llave in mi_diccionario:\n",
    "    print(llave, \": \", mi_diccionario[llave], sep='')"
   ]
  },
  {
   "cell_type": "code",
   "execution_count": 2,
   "metadata": {},
   "outputs": [
    {
     "name": "stdout",
     "output_type": "stream",
     "text": [
      "\n",
      "Mostrando los datos de la persona: 1.\n",
      "Nombre: Eric\n",
      "Identificación: 123\n",
      "\n",
      "Mostrando los datos de la persona: 2.\n",
      "Nombre: Juan\n",
      "Identificación: 456\n",
      "\n",
      "Mostrando los datos de la persona: 3.\n",
      "Nombre: Pedro\n",
      "Identificación: 789\n"
     ]
    }
   ],
   "source": [
    "# Creamos el diccionario con listas vacías en su interior\n",
    "usuarios = {\n",
    "    \"nombres\": [],\n",
    "    \"identificaciones\": []\n",
    "}\n",
    "\n",
    "# Definimos un tamaño para las listas del diccionario\n",
    "# Lo puedes cambiar si quieres\n",
    "tamaño = 3\n",
    "\n",
    "# Leemos los datos y los agregamos a el diccionario\n",
    "for i in range(tamaño):\n",
    "    nombre = input(\"Nombre: \")\n",
    "    identificación = input(\"Identificación: \")\n",
    "\n",
    "    # La primera lista es para los nombres\n",
    "    usuarios[\"nombres\"].append(nombre)\n",
    "\n",
    "    # La segunda lista es para las identificaciones\n",
    "    usuarios[\"identificaciones\"].append(identificación)\n",
    "\n",
    "# Ahora mostremos los valores en el diccionario\n",
    "for i in range(tamaño):\n",
    "    print(f\"\\nMostrando los datos de la persona: {i + 1}.\")\n",
    "\n",
    "    print(\"Nombre:\", usuarios[\"nombres\"][i])\n",
    "    print(\"Identificación:\", usuarios[\"identificaciones\"][i])"
   ]
  },
  {
   "cell_type": "markdown",
   "metadata": {},
   "source": [
    "# _____________________________________________________________\n",
    "### 1.3.2 Uso de funciones en procesamiento de datos.\n",
    "Dado que las funciones permiten o ayudan a dividir problemas complejos en partes manejables, hacen que un código sea más legible y le permiten reutilizar su trabajo de manera eficiente. En otras palabras, las funciones hacen que su código sea modular. \n",
    "\n",
    "Estas características hacen que su uso para el procesamiento de datos sea más práctico. Además, a partir de comandos se pueden llamar bases de datos alojadas en otros archivos con el fin de leerlos o bien modificarlos de manera que no se afecte o pierda información.\n",
    "\n",
    "Algunos usos son:\n",
    "* En múltiples profesiones para generar bases de datos y trabajar con ellas. Ayuda en la toma de desiciones.\n",
    "* En el prendizaje automático, la cual es una rama de la inteligencia artificial que se enfoca en crear algoritmos que puedan aprender de los datos y hacer predicciones o tomar decisiones basadas en estos.\n",
    "* Ciencia de datos: la cual se enfoca en desarrollar algoritmos que permiten a los ordenadores comprender y generar lenguaje humano.\n",
    "* La visualización de datos es una parte fundamental del análisis de datos, ya que permite a los usuarios, comprender y comunicar los patrones y tendencias que se encuentran en los datos. \n",
    "\n",
    "A continuación se muestra un ejemplo:\n",
    "### Referencias\n",
    "* Arregui, M. (2023). Cómo aplicar Python para desarrollar tareas de data science. https://www.obsbusiness.school/blog/como-aplicar-python-para-desarrollar-tareas-de-data-science\n",
    "\n",
    "* Willems, K. (2024). Tutorial de funciones de Python. https://www.datacamp.com/es/tutorial/functions-python-tutorial"
   ]
  },
  {
   "cell_type": "code",
   "execution_count": null,
   "metadata": {},
   "outputs": [
    {
     "name": "stdout",
     "output_type": "stream",
     "text": [
      "\n",
      "La lista de sus compras es:\n",
      "Café: ₡3750.00\n",
      "Arroz: ₡2115.25\n",
      "Azúcar: ₡759.63\n",
      "\n",
      "El monto total a pagar es: ₡6624.88\n"
     ]
    }
   ],
   "source": [
    "# Ejemplo práctico. Generar una lista de compras\n",
    "def mostrar_lista_compra():\n",
    "    productos = {}  # Diccionario vacío para almacenar los productos y sus precios\n",
    "    cantidad_productos = int(input(\"¿Cuántos productos deseas agregar? \"))  # Pedir la cantidad de productos\n",
    "    \n",
    "    for _ in range(cantidad_productos):\n",
    "        producto = input(\"Ingresa el nombre del producto: \")\n",
    "        precio = float(input(f\"Ingresa el precio de {producto}: ₡\"))  # Pedir el precio del producto\n",
    "        productos[producto] = precio  # Agregar el producto y el precio al diccionario\n",
    "    \n",
    "    # Inicializamos el total en 0\n",
    "    total = 0\n",
    "    \n",
    "    # Imprimir la lista de productos con su precio\n",
    "    print(\"\\nLa lista de sus compras es:\")\n",
    "    for producto, precio in productos.items():\n",
    "        print(f\"{producto}: ₡{precio:.2f}\")\n",
    "        total += precio  # Vamos sumando el precio al total\n",
    "\n",
    "    # Imprimir el total a pagar\n",
    "    print(f\"\\nEl monto total a pagar es: ₡{total:.2f}\")\n",
    "\n",
    "# Llamada a la función\n",
    "mostrar_lista_compra()"
   ]
  },
  {
   "cell_type": "markdown",
   "metadata": {},
   "source": [
    "# _____________________________________________________________\n",
    "### 1.3.3 Optimización del rendimiento con funciones.\n",
    "Partiendo que la optimización de código es el conjunto de fases de un compilador que transforman un fragmento de código en otro fragmento con un comportamiento equivalente y que se ejecuta de forma más eficiente, es decir, usando menos recursos de cálculo como memoria o tiempo de ejecución. El empleo de funciones ya otorgadas o diseñadas por un lenguaje de programación puede ser uno de los recursos más valiosos para programar y optimizar el rendimento tanto en Python como en cualquier otro lenguaje. Sobre todo permite trabajar con código ya otorgado y documentado, fácil de comprender por otros programadores. \n",
    "\n",
    "Además, ayuda al programador a no 'perder' tiempo en generar códigos ya elaborados.\n",
    "\n",
    "Algunas ventajas señalas por Llort, J. (2022) respecto a la optimización del rendimiento con funciones son:\n",
    "* Reducción de código y legibilidad del programa.\n",
    "* Facilita la depuración.\n",
    "* Mejoran la claridad, estructura y legibilidad del programa.\n",
    "* Se pueden ejecutar más de una vez en un programa y/o en diferentes programas, ahorrando tiempo de programación.\n",
    "* Facilita la división de las tareas entre un equipo de programadores.\n",
    "\n",
    "### Referencias\n",
    "* Clarissó, R. (2016). Optimización de código: un código más eficiente. https://blogs.uoc.edu/informatica/es/optimizacion-de-codigo-un-codigo-mas-eficiente/\n",
    "* Llort, J. (2022). Ventajas y desventajas del uso de funciones y procedimientos de programación. https://cipsa.net/ventajas-desventajas-uso-funciones-procedimientos-programacion/"
   ]
  },
  {
   "cell_type": "markdown",
   "metadata": {},
   "source": [
    "# _____________________________________________________________\n",
    "### 1.3.4 Comparación entre funciones definidas por el usuario y funciones integradas (len(), sum(), etc.).\n",
    "\n",
    "Las funciones definidas por el usario son diseñadas por el usuario cuando escribe cualquier programa porque para cada tarea no se tiene una biblioteca de funciones donde sus definiciones estén predefinidas. Por tanto, son todas aquellas que el usario desarrolla por sí mismo, por lo que los usuarios pueden escribir su propia lógica según el requisito.\n",
    "\n",
    "De acuerdo con Chaves (2022) se puede señalar que:\n",
    "Las funciones definidas por el usuario, dentro de sus características se tienen:\n",
    "* Son creadas por los usuarios según sus propios requisitos. \n",
    "* Las funciones definidas por el usuario no se almacenan en archivos de biblioteca. \t\n",
    "* No existe ningún tipo de requisito para agregar una biblioteca en particular.\n",
    "* La ejecución del programa comienza desde la función definida por el usuario. \n",
    "\n",
    "Las funciones integradas están predefinidas en la biblioteca. Se utilizan para realizar las operaciones más comunes, como cálculos, actualizaciones, etc. Para utilizar estas funciones en el programa, el usuario debe utilizar un archivo de encabezado asociado con la función correspondiente en el programa, el intérprete Python tiene un número de funciones integradas (built-in) dentro del módulo __builtins__, las cuales están siempre disponibles. Algunas de las funciones de la biblioteca son: aplicar(), invocable(), print(), len(), sum(), compilar(), dir(), entre otras muchas. Dentro de sus características se tienen:\n",
    "* Estas funciones no son creadas por los usuarios como propias.\n",
    "* Las funciones de la biblioteca se almacenan en un archivo de biblioteca especial.\n",
    "* Si el usuario desea utilizar una función de biblioteca particular, debe agregar la biblioteca particular de esa función en el archivo de encabezado del programa.\n",
    "* La ejecución del programa no comienza desde la función de biblioteca.\n",
    "\n",
    "### Referencias\n",
    "* Chaves, S. (2022). ¿Cuáles son las principales funciones en Python?. https://formadoresit.es/cuales-son-las-principales-funciones-en-python/\n",
    "\n",
    "\n",
    "\n",
    "\n"
   ]
  },
  {
   "cell_type": "markdown",
   "metadata": {},
   "source": [
    "---"
   ]
  },
  {
   "cell_type": "markdown",
   "metadata": {},
   "source": [
    "# Sessión 1.4. Conclusiones\n",
    "# _____________________________________________________________\n",
    "### 1.4.1 Un resumen de hallazgos sobre la teoría y la práctica.\n",
    "El tema de las funciones de Python es un campo muy extenso y son utilizadas en un programa desarrollado para cumplir un objetivo específico, para lo cual obtienen datos de entrada llamados argumentos, los procesan utilizando diferentes fórmulas y algoritmos matemáticos, y ofrecen datos de salida valiosos. Además, permiten encapsular código reutilizable, mejorando la modularización y eficiencia en el desarrollo de software.\n",
    "\n",
    "Se puedo determinar que Python tiene muchas funciones integradas las cuales se pueden utilizar para diversas acciones. Además, el programador puede elaborar algunas según sus necesidades. \n",
    "\n",
    "Además, las funciones puede ser utilzidas en diversos campos o disciplicas, para contribuir a su desarrollo o favores los proceso de tomas de desiciones. Tambien, puede ser utilizadas en la resolución de problemas cotidianos.\n",
    "\n",
    "Se logró buscar, modificar y hasta crear algunos códigos relacionados con el tema de las funciones, esto desde la práctica fue muy valioso dado que favorece la comprensión de las temáticas desarrolladas.\n",
    "\n",
    "Sin duda alguna esta investigación es un espacio para adentrarse en el estudio de las funciones pero tema que deberá seguirse estudiando con más detalles y profundidad en cada uno de los apartados.\n",
    "# _____________________________________________________________\n",
    "### 1.4.2 Un análisis personal sobre qué aprendieron del uso de funciones en Python.\n",
    "Desde el ámbito personal logré comprender que las funciones son una poderosa herramienta en el ámbito de la programación, las cuales pueden ser reutilizadas en muchos programas que las requieran, lo que favore la optimización del tiempo en la mayoría de los casos.\n",
    "\n",
    "\n",
    "Además, me deja el reto de seguir profundizando respecto este tema y en cada uno de los apartados desarrollados en este material, dado que a partir de las lecturas producto de la investigación noté que se podían realizar otras acciones uy interesantes, además, encontré muchas funciones ya programadas que son muy útiles en mi ámbito profesional.\n",
    "\n",
    "Un aporte más es el poder relizar este NOTEBOOK, ha sido un reto personal, dado que desde la segunda lección me pareció un recurso muy práctico y útil. ¡Falta muchísimo por recorrer! pero ya iniciamos el estudio de programación en Python."
   ]
  },
  {
   "cell_type": "markdown",
   "metadata": {},
   "source": [
    "# __________________________________________________________________________________\n",
    "\n",
    "## 1.5 Referencias con enlaces o libros consultados.\n",
    "* Apuntes de programador. (sf). Recursividad y funciones recursivas en Python: soluciones eficientes y elegantes. https://apuntes.de/python/recursividad-y-funciones-recursivas-en-python-soluciones-eficientes-y-elegantes/#gsc.tab=0\n",
    "* Arregui, M. (2023). Cómo aplicar Python para desarrollar tareas de data science. https://www.obsbusiness.school/blog/como-aplicar-python-para-desarrollar-tareas-de-data-science\n",
    "* Casero, A. (2024.). Conoce las funciones de retorno en Python. https://keepcoding.io/blog/funciones-de-retorno-en-python/\n",
    "* Chaves, S. (2022). ¿Cuáles son las principales funciones en Python?. https://formadoresit.es/cuales-son-las-principales-funciones-en-python/sd\n",
    "* Clarissó, R. (2016). Optimización de código: un código más eficiente. https://blogs.uoc.edu/informatica/es/optimizacion-de-codigo-un-codigo-mas-eficiente/\n",
    "* Costa, H. (2018). Funciones recursivas. https://docs.hektorprofe.net/python/programacion-de-funciones/funciones-recursivas/\n",
    "* Gonzales, C. (sf). Reutilización de Código: Qué es, Cómo Funciona y Más. https://saberpunto.com/desarrollo/que-es-la-reutilizacion-de-codigo-y-como-maximizar-el-desarrollo-de-software/\n",
    "* Hurtado, H. (2013). Generadores en Python. https://alvarohurtado.es/2013/08/31/generadores-en-python/\n",
    "* Jamilis, A. (2020). Python: generadores y yield. https://medium.com/flux-it-thoughts/python-generadores-y-yield-c7ef66d44a94\n",
    "* Llort, J. (2022). Ventajas y desventajas del uso de funciones y procedimientos de programación. https://cipsa.net/ventajas-desventajas-uso-funciones-procedimientos-programacion/\n",
    "* Meza, J. (2021). Diccionarios (listas asociativas) en Python. Uso y creación de diccionarios en Python. https://www.programarya.com/Cursos/Python/estructuras-de-datos/diccionarios\n",
    "* Nisha Kumari. (sf). Función Python sin retorno: explicación de Python. https://bito-ai.translate.goog/resources/python-function-without-return-python-explained/?_x_tr_sl=en&_x_tr_tl=es&_x_tr_hl=es&_x_tr_pto=tc\n",
    "* Pedigo, M. (2025). Funciones lambda de Python: Guía para principiantes. https://www.datacamp.com/es/tutorial/python-lambda-functions\n",
    "* Radhika, V. (2024). Parámetros predeterminados y opcionales en Python: ¿cuál es la diferencia?. https://www-index-dev.translate.goog/blog/default-vs-optional-parameters-python?_x_tr_sl=en&_x_tr_tl=es&_x_tr_hl=es&_x_tr_pto=tc&_x_tr_hist=true\n",
    "* sd. (2024). Cierres y decoradores en Python. https://www-geeksforgeeks-org.translate.goog/closures-and-decorators-in-python/?_x_tr_sl=en&_x_tr_tl=es&_x_tr_hl=es&_x_tr_pto=tc \n",
    "* Severance, C. (2020). Python para todos Explorando la información con Python 3. https://do1.dr-chuck.com/pythonlearn/ES_es/pythonlearn.pdf\n",
    "* TutorCache. (sf). What are the benefits of modular programming?. https://www-tutorchase-com.translate.goog/answers/ib/computer-science/what-are-the-benefits-of-modular-programming?_x_tr_sl=en&_x_tr_tl=es&_x_tr_hl=es&_x_tr_pto=tc&_x_tr_hist=true\n",
    "* Willems, K. (2024). Tutorial de funciones de Python. https://www.datacamp.com/es/tutorial/functions-python-tutorial\n"
   ]
  }
 ],
 "metadata": {
  "colab": {
   "provenance": []
  },
  "kernelspec": {
   "display_name": "base",
   "language": "python",
   "name": "python3"
  },
  "language_info": {
   "codemirror_mode": {
    "name": "ipython",
    "version": 3
   },
   "file_extension": ".py",
   "mimetype": "text/x-python",
   "name": "python",
   "nbconvert_exporter": "python",
   "pygments_lexer": "ipython3",
   "version": "3.12.7"
  }
 },
 "nbformat": 4,
 "nbformat_minor": 0
}
