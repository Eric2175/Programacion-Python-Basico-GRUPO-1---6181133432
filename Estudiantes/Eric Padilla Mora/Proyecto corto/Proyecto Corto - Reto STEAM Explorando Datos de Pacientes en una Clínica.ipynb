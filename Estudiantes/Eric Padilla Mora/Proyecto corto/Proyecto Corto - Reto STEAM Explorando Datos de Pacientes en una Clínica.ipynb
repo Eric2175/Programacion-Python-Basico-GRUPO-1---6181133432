{
 "cells": [
  {
   "cell_type": "markdown",
   "metadata": {
    "azdata_cell_guid": "e738b43d-fda9-409b-9e4e-f356323e1dbc"
   },
   "source": [
    "# Proyecto Corto: Explorando Datos de Pacientes en una Clínica\n",
    "## Programacion Python Basico | ICAI - UNA\n",
    "## Profesor: Ing. Andrés Mena Abarca\n",
    "### Nombre del estudiante: Eric Ricardo Padilla Mora\n",
    "* * *"
   ]
  },
  {
   "attachments": {},
   "cell_type": "markdown",
   "metadata": {
    "azdata_cell_guid": "5a9661f6-9c22-438b-8530-debb92fea2ff"
   },
   "source": [
    "¡Bienvenidos al reto STEAM! Hoy serás parte de un equipo de científicos de datos que está desarrollando una aplicación para analizar los datos de los pacientes de una clínica. Este proyecto se integra dentro del enfoque STEAM, donde no solo usaremos habilidades de programación y análisis, sino también creatividad, visualización y reflexión crítica para mejorar la experiencia de salud.\n",
    "\n",
    "En este reto, utilizaremos **Python** para analizar datos clínicos reales y responder preguntas importantes sobre la salud de los pacientes. También diseñarás soluciones creativas y colaborarás con tus compañeros para mejorar la aplicación.\n",
    "\n",
    "### Contexto:\n",
    "\n",
    "El director de la clínica te ha encargado que construyas un sistema que pueda analizar la información de los pacientes, entender las enfermedades tratadas, los medicamentos recetados y comparar pacientes.\n",
    "\n",
    "### Objetivos del Reto:\n",
    "1. Aplicar estructuras básicas de Python como listas y ciclos.\n",
    "2. Leer datos desde un archivo JSON y almacenarlos en listas.\n",
    "3. Realizar análisis de datos sobre enfermedades y medicamentos.\n",
    "4. Visualizar y comunicar los resultados de manera creativa.\n",
    "\n",
    "### Fase Creativa STEAM:\n",
    "- **Ciencia y Tecnología:** Analizarás los datos clínicos.\n",
    "- **Ingeniería:** Implementarás las soluciones utilizando estructuras de Python.\n",
    "- **Arte y Matemáticas:** Visualizarás los resultados de manera atractiva y clara.\n",
    "\n",
    "¡Comencemos!\n",
    "\n",
    "## Cargar y Leer los Datos de Pacientes"
   ]
  },
  {
   "cell_type": "code",
   "execution_count": 144,
   "metadata": {
    "azdata_cell_guid": "65553934-e4e4-4b44-aa2e-b234d1a33667",
    "language": "python"
   },
   "outputs": [
    {
     "name": "stdout",
     "output_type": "stream",
     "text": [
      "\n",
      " Los datos generales de cada uno de los pacientes de la clínica se muestran en la siguiente tabla:\n",
      "\n",
      "----------------------------------------------------------------------------------------------------------\n",
      "----------------------------------------------------------------------------------------------------------\n",
      "Número de cédula      Teléfono       Provincia             Cantón            Enfermedad       Medicamento\n",
      "  116640019      61727979        San José       Desamparados                 gripe      acetaminofen     \n",
      "  603240305      60534319         Heredia      Santo Domingo             gastritis         antiácido     \n",
      "  503980535      70713699        Alajuela         San Carlos                   tos            jarabe     \n",
      "  702370234      70693575         Cartago            Paraíso               migraña      acetaminofen     \n",
      "  116310912      88070036        San José         Curridabat                 dolor      acetaminofen     \n",
      "  604830325      83155658      Puntarenas                Osa                 gripe      acetaminofen     \n",
      "  116130052      64069212      Guanacaste            Liberia             gastritis         antiácido     \n",
      "  111860150      88447416           Limón       Puerto Viejo              diabetes          insulina     \n",
      "     110283      61088556        San José             Escazú                  asma        salbutamol     \n",
      "  503810832      83076969         Heredia              Barva                 gripe      acetaminofen     \n",
      "  114740407      70112487         Cartago          Turrialba        hipotiroidismo      levotiroxina     \n",
      "  205750691      83349456        San José      Montes de Oca              alergias        loratadina     \n",
      "  215487963      78823654      Guanacaste             Nicoya               migraña      acetaminofen     \n",
      "  318540762      65892345        Alajuela             Grecia          presión alta        amlodipino     \n",
      "  457821904      72908475         Cartago           Oreamuno      dolor de espalda        ibuprofeno     \n",
      "  602948176      61928374         Heredia              Belén              ansiedad        clonazepam     \n",
      "  703219485      63487294           Limón           Guápiles              diabetes          insulina     \n",
      "  825613092      72845312      Puntarenas          Coto Brus                  asma        salbutamol     \n",
      "  908124753      71239485        San José            Moravia              alergias        cetirizina     \n",
      "  103927564      63749562         Heredia         San Isidro             gastritis         omeprazol     \n",
      "  200145879      78546932      Guanacaste         Santa Cruz          presión alta          losartán     \n",
      "  305946278      65849371      Puntarenas            Golfito                   tos            jarabe     \n",
      "  412598764      73284956        San José              Tibás      dolor de espalda       paracetamol     \n",
      "  507812394      69231875         Cartago          El Guarco              ansiedad          diazepam     \n",
      "  602938574      61249375           Limón          Siquirres              diabetes        metformina     \n",
      "  715498372      74938261        Alajuela             Atenas                  asma       fluticasona     \n",
      "  823654091      69829375        San José      Pérez Zeledón              alergias        loratadina     \n",
      "  912475683      73485629         Cartago            Jiménez        hipotiroidismo      levotiroxina     \n",
      "  104598273      68597312         Heredia         San Rafael                 gripe      acetaminofen     \n",
      "  205963184      71928364      Puntarenas            Esparza             gastritis       pantoprazol     \n",
      "  301456897      64395721        San José         Alajuelita               migraña        ibuprofeno     \n",
      "  401598723      71928574           Limón             Matina          presión alta         enalapril     \n",
      "  510298374      62938475      Guanacaste            Bagaces                  asma        salbutamol     \n",
      "  621095837      75928346         Cartago          Turrialba              diabetes          insulina     \n",
      "  732145609      68495731         Heredia             Flores                 dolor      acetaminofen     \n",
      "  802149357      72938475        San José         Goicoechea             gastritis         omeprazol     \n",
      "  913256748      65849371      Puntarenas       Buenos Aires          presión alta        amlodipino     \n",
      "  102548397      67293857           Limón          Talamanca                  asma        salbutamol     \n",
      "  204985763      74583925      Guanacaste           Carrillo                 gripe      acetaminofen     \n",
      "----------------------------------------------------------------------------------------------------------\n",
      "----------------------------------------------------------------------------------------------------------\n",
      "\n",
      "¡Fin de la lista!\n",
      "\n"
     ]
    },
    {
     "name": "stderr",
     "output_type": "stream",
     "text": [
      "C:\\Users\\epadilla\\AppData\\Local\\Temp\\ipykernel_16164\\3058000181.py:14: FutureWarning: DataFrame.applymap has been deprecated. Use DataFrame.map instead.\n",
      "  lista_oficial = lista_oficial.applymap(lambda x: str(x) + \"     \")\n"
     ]
    }
   ],
   "source": [
    "import json\n",
    "import pandas as pd\n",
    "from tabulate import tabulate\n",
    "\n",
    "# Código para cargar los datos\n",
    "datos = []\n",
    "with open('clinica_intermedio.json', encoding='utf-8') as archivo: \n",
    "    datos = json.load(archivo)\n",
    "\n",
    "# Imprimiendo los datos para ver si la lista está bien o completa.\n",
    "lista_oficial = pd.DataFrame(datos, columns=['Número de cédula','Teléfono', 'Provincia', 'Cantón', 'Enfermedad','Medicamento'])\n",
    "\n",
    "# Agregar un # Agregar un espacio a cada valor en cada celda\n",
    "lista_oficial = lista_oficial.applymap(lambda x: str(x) + \"     \")\n",
    "\n",
    "# Mostrar los datos en un tabla\n",
    "print('\\n Los datos generales de cada uno de los pacientes de la clínica se muestran en la siguiente tabla:\\n')\n",
    "print(\"----------------------------------------------------------------------------------------------------------\")\n",
    "print(\"----------------------------------------------------------------------------------------------------------\")\n",
    "print(lista_oficial.to_string(index=False))\n",
    "print(\"----------------------------------------------------------------------------------------------------------\")\n",
    "print(\"----------------------------------------------------------------------------------------------------------\")\n",
    "print('\\n¡Fin de la lista!\\n')\n"
   ]
  },
  {
   "attachments": {},
   "cell_type": "markdown",
   "metadata": {
    "azdata_cell_guid": "27d04572-8b5b-46fa-b3ee-4ed3f2939a34",
    "language": "python"
   },
   "source": [
    "## Desafío 1: Análisis Científico - Reporte de Enfermedades Tratadas\n",
    "\n",
    "Tu primer reto es analizar los datos de los pacientes para generar un reporte de las enfermedades tratadas en la clínica. Utiliza listas y ciclos para contar cuántos pacientes han sido tratados por cada enfermedad.\n",
    "\n",
    "### Instrucciones:\n",
    "\n",
    "1. Crea una lista vacía donde almacenarás las enfermedades.\n",
    "2. Recorre los datos de los pacientes y extrae la enfermedad de cada paciente.\n",
    "3. Cuenta cuántos pacientes han sido tratados por cada enfermedad.\n",
    "4. Visualiza los resultados de manera clara utilizando la técnica que elijas (gráficos o tablas).\n",
    "\n",
    "### Preguntas:\n",
    "\n",
    "* ¿Qué enfermedades son las más tratadas en la clínica?\n",
    "    - R/ De acuedo con los datos recavados los enfermedad que más se atiende en la clínica son: **la gripe, la gastritis y el asma**, le siguen: **la diabetes y la presión alta**.\n",
    "    \n",
    "* ¿Hay alguna enfermedad que te sorprenda por su prevalencia?\n",
    "    - R/ De acuerdo con la información se puede valorar la situación ocurrida con: **La gripe y el asma**, además debe valorarse los casos de: **diabetes y presión alta** para darles seguimiento.\n",
    "\n"
   ]
  },
  {
   "attachments": {},
   "cell_type": "markdown",
   "metadata": {
    "azdata_cell_guid": "4b7c571d-d8f2-4d72-9f79-9718986200eb"
   },
   "source": [
    "### **Paso a Paso para el Estudiante**\n",
    "\n",
    "#### **Paso 1: Crear las Listas**\n",
    "\n",
    "1. **Objetivo:** Necesitamos dos listas para almacenar:\n",
    "    \n",
    "    - Los nombres de las enfermedades.\n",
    "    - La cantidad de veces que cada enfermedad aparece.\n",
    "2. **Instrucción:**\n",
    "    \n",
    "    - Crea una lista vacía llamada `lista_enfermedades`.\n",
    "    - Crea otra lista vacía llamada `lista_cantidades`."
   ]
  },
  {
   "cell_type": "code",
   "execution_count": 145,
   "metadata": {
    "azdata_cell_guid": "61977840-044f-4cb3-858a-1812c43f3e2b",
    "language": "python"
   },
   "outputs": [
    {
     "name": "stdout",
     "output_type": "stream",
     "text": [
      "----------------------------------------\n",
      "En la siguiente tabla se muestra el tipo de enfermedad padecido por los pacientes que asisten a la clínica así como la cantidad de ellos que la padecen.\n",
      "\n",
      "+------------------+-----------------------------------+\n",
      "| Enfermedad       |   Cantidad de pacientes atendidos |\n",
      "+==================+===================================+\n",
      "| gripe            |                                 5 |\n",
      "+------------------+-----------------------------------+\n",
      "| gastritis        |                                 5 |\n",
      "+------------------+-----------------------------------+\n",
      "| tos              |                                 2 |\n",
      "+------------------+-----------------------------------+\n",
      "| migraña          |                                 3 |\n",
      "+------------------+-----------------------------------+\n",
      "| dolor            |                                 2 |\n",
      "+------------------+-----------------------------------+\n",
      "| diabetes         |                                 4 |\n",
      "+------------------+-----------------------------------+\n",
      "| asma             |                                 5 |\n",
      "+------------------+-----------------------------------+\n",
      "| hipotiroidismo   |                                 2 |\n",
      "+------------------+-----------------------------------+\n",
      "| alergias         |                                 3 |\n",
      "+------------------+-----------------------------------+\n",
      "| presión alta     |                                 4 |\n",
      "+------------------+-----------------------------------+\n",
      "| dolor de espalda |                                 2 |\n",
      "+------------------+-----------------------------------+\n",
      "| ansiedad         |                                 2 |\n",
      "+------------------+-----------------------------------+\n",
      "----------------------------------------\n",
      "\n",
      "**********¡Fin de la lista**********!\n",
      "\n",
      "Ahora se mostrará la misma información pero en formato de gráfico.\n",
      "\n",
      "En el siguiente gráfico se muestra el tipo de enfermedad y la cantidad de pacientes que la padecen.\n"
     ]
    },
    {
     "data": {
      "image/png": "[encoded data removed]",
      "text/plain": [
       "<Figure size 1500x700 with 1 Axes>"
      ]
     },
     "metadata": {},
     "output_type": "display_data"
    }
   ],
   "source": [
    "# Lista para almacenar las enfermedades y sus cantidades\n",
    "import pandas as pd\n",
    "import matplotlib.pyplot as plt\n",
    "\n",
    "# Crear celdas vacías\n",
    "lista_enfermedades = []\n",
    "lista_enfermedades = [item[4] for item in datos]\n",
    "\n",
    "# Comando para contar la cantidades de las enfermedades\n",
    "lista_cantidades = {}\n",
    "for item in lista_enfermedades:\n",
    "    if item in lista_cantidades:\n",
    "        lista_cantidades[item] += 1\n",
    "    else:\n",
    "        lista_cantidades[item] = 1\n",
    "\n",
    "# Imprimir como tabla\n",
    "tabla = pd.DataFrame(list(lista_cantidades.items()), columns=[\"Enfermedad\", \"Cantidad de pacientes atendidos\"])\n",
    "\n",
    "print(\"----------------------------------------\")\n",
    "print(\"En la siguiente tabla se muestra el tipo de enfermedad padecido por los pacientes que asisten a la clínica así como la cantidad de ellos que la padecen.\\n\")\n",
    "print(tabulate(tabla, headers='keys', tablefmt='grid', showindex=False))\n",
    "print(\"----------------------------------------\\n\")\n",
    "print('**********¡Fin de la lista**********!')\n",
    "\n",
    "\n",
    "# Mostrar el gráfico\n",
    "print('\\nAhora se mostrará la misma información pero en formato de gráfico.\\n')\n",
    "print(\"En el siguiente gráfico se muestra el tipo de enfermedad y la cantidad de pacientes que la padecen.\")\n",
    "# Crear el gráfico de barras\n",
    "plt.figure(figsize=(15, 7))  # Tamaño del gráfico\n",
    "plt.bar(tabla[\"Enfermedad\"], tabla[\"Cantidad de pacientes atendidos\"], color='purple')\n",
    "\n",
    "# Añadir título y etiquetas\n",
    "plt.title('Cantidad de pacientes que padecen cada enfermedad')\n",
    "plt.xlabel('Enfermedad')\n",
    "plt.ylabel('Cantidad de pacientes')\n",
    "\n",
    "# Mostrar el gráfico\n",
    "plt.tight_layout()  # Ajustar el diseño para que no se corten las etiquetas\n",
    "plt.show()"
   ]
  },
  {
   "attachments": {},
   "cell_type": "markdown",
   "metadata": {
    "azdata_cell_guid": "549b6c62-76c6-4412-ae94-4d7a0ebd790d"
   },
   "source": [
    "#### **Paso 2: Recorrer los Datos de los Pacientes**\n",
    "\n",
    "### \n",
    "\n",
    "1. **Objetivo:** Vamos a analizar cada paciente para extraer su enfermedad.\n",
    "    \n",
    "2. **Instrucción:**\n",
    "    \n",
    "    - Usa un bucle `for` para recorrer cada `paciente` en `datos_pacientes` (ya está definida en el código como una lista de listas).\n",
    "    - Dentro del bucle, asigna la enfermedad del paciente (índice `4` de cada lista) a una variable llamada `enfermedad`."
   ]
  },
  {
   "cell_type": "code",
   "execution_count": 146,
   "metadata": {
    "azdata_cell_guid": "eaf15439-71de-42c1-b0d3-c4ee8210cf05",
    "language": "python"
   },
   "outputs": [
    {
     "name": "stdout",
     "output_type": "stream",
     "text": [
      "\n",
      "Correponde a hora analizar la enfermedad que padece cada paciente, por lo que se imprimirá una lista de cada paciente y su respectiva enfermedad.\n",
      "\n",
      "Lista de pacientes por número de cédula y la enfermedad que padece.\n",
      "\n",
      "______________________________________________________\n",
      "El paciente con cédula 116640019 padece de gripe.\n",
      "El paciente con cédula 603240305 padece de gastritis.\n",
      "El paciente con cédula 503980535 padece de tos.\n",
      "El paciente con cédula 702370234 padece de migraña.\n",
      "El paciente con cédula 116310912 padece de dolor.\n",
      "El paciente con cédula 604830325 padece de gripe.\n",
      "El paciente con cédula 116130052 padece de gastritis.\n",
      "El paciente con cédula 111860150 padece de diabetes.\n",
      "El paciente con cédula 110283 padece de asma.\n",
      "El paciente con cédula 503810832 padece de gripe.\n",
      "El paciente con cédula 114740407 padece de hipotiroidismo.\n",
      "El paciente con cédula 205750691 padece de alergias.\n",
      "El paciente con cédula 215487963 padece de migraña.\n",
      "El paciente con cédula 318540762 padece de presión alta.\n",
      "El paciente con cédula 457821904 padece de dolor de espalda.\n",
      "El paciente con cédula 602948176 padece de ansiedad.\n",
      "El paciente con cédula 703219485 padece de diabetes.\n",
      "El paciente con cédula 825613092 padece de asma.\n",
      "El paciente con cédula 908124753 padece de alergias.\n",
      "El paciente con cédula 103927564 padece de gastritis.\n",
      "El paciente con cédula 200145879 padece de presión alta.\n",
      "El paciente con cédula 305946278 padece de tos.\n",
      "El paciente con cédula 412598764 padece de dolor de espalda.\n",
      "El paciente con cédula 507812394 padece de ansiedad.\n",
      "El paciente con cédula 602938574 padece de diabetes.\n",
      "El paciente con cédula 715498372 padece de asma.\n",
      "El paciente con cédula 823654091 padece de alergias.\n",
      "El paciente con cédula 912475683 padece de hipotiroidismo.\n",
      "El paciente con cédula 104598273 padece de gripe.\n",
      "El paciente con cédula 205963184 padece de gastritis.\n",
      "El paciente con cédula 301456897 padece de migraña.\n",
      "El paciente con cédula 401598723 padece de presión alta.\n",
      "El paciente con cédula 510298374 padece de asma.\n",
      "El paciente con cédula 621095837 padece de diabetes.\n",
      "El paciente con cédula 732145609 padece de dolor.\n",
      "El paciente con cédula 802149357 padece de gastritis.\n",
      "El paciente con cédula 913256748 padece de presión alta.\n",
      "El paciente con cédula 102548397 padece de asma.\n",
      "El paciente con cédula 204985763 padece de gripe.\n",
      "______________________________________________________\n",
      "\n",
      "**********¡Fin de la lista!**********\n"
     ]
    }
   ],
   "source": [
    "# Se extraen los pacientes y su enfermedad\n",
    "pacientes = [item[0] for item in datos]\n",
    "enfermedad = [item[4] for item in datos]\n",
    "print('\\nCorreponde a hora analizar la enfermedad que padece cada paciente, por lo que se imprimirá una lista de cada paciente y su respectiva enfermedad.\\n')\n",
    "print('Lista de pacientes por número de cédula y la enfermedad que padece.\\n')\n",
    "print('______________________________________________________')\n",
    "\n",
    "#Hacemos el ciclo para unirlos\n",
    "for persona, enfermedad in zip(pacientes, enfermedad):\n",
    "    print(f'El paciente con cédula {persona} padece de {enfermedad}.')\n",
    "print('______________________________________________________\\n')\n",
    "print('**********¡Fin de la lista!**********')"
   ]
  },
  {
   "attachments": {},
   "cell_type": "markdown",
   "metadata": {
    "azdata_cell_guid": "d587b0f6-79f4-4a71-bcaf-837bd0c31bee",
    "language": "python"
   },
   "source": [
    "#### **Paso 3: Verificar si la Enfermedad ya está en la Lista**\n",
    "\n",
    "1. **Objetivo:** Verificar si la enfermedad ya fue registrada.\n",
    "    \n",
    "2. **Instrucción:**\n",
    "    \n",
    "    - Usa un `if` para verificar si la `enfermedad` ya está en `lista_enfermedades`.\n",
    "    - Si **no** está en `lista_enfermedades`, agrega la enfermedad a `lista_enfermedades` y añade `1` a `lista_cantidades` para contarla por primera vez.\n",
    "    - Si **sí** está en `lista_enfermedades`, encuentra la posición (`indice`) de la enfermedad en `lista_enfermedades` y aumenta en `1` el valor en `lista_cantidades` en la misma posición."
   ]
  },
  {
   "cell_type": "code",
   "execution_count": 147,
   "metadata": {
    "azdata_cell_guid": "f5cffccc-7f3a-45f8-b203-53faac8d2ab0",
    "language": "python"
   },
   "outputs": [
    {
     "name": "stdout",
     "output_type": "stream",
     "text": [
      "La enfermedad ya está en la lista, por lo que se aumentó en uno la cantidad de pacientes atendidos.\n"
     ]
    }
   ],
   "source": [
    "import pandas as pd\n",
    "# Pista: Usa 'if' para verificar si la enfermedad ya está en lista_enfermedades.\n",
    "enfermedades = lista_cantidades\n",
    "# Solicitar al usuario que ingrese una nueva enfermedad\n",
    "nueva_enfermedad = input(\"Ingresa el nombre de una enfermedad: \")\n",
    "\n",
    "# Verificar si la enfermedad ya está en la lista\n",
    "if nueva_enfermedad in enfermedades:\n",
    "    print('La enfermedad ya está en la lista, por lo que se aumentó en uno la cantidad de pacientes atendidos.')\n",
    "    # Si está, aumentamos la cantidad en 1\n",
    "    enfermedades[nueva_enfermedad] += 1\n",
    "else:\n",
    "    print('La enfermedad no está en la lista pero será agregada.\\n')\n",
    "    print(f'Se informa que {nueva_enfermedad} ya fue agregada, con éxito, a la lista de pacientes atendidos.')\n",
    "    # Si no está, la agregamos con cantidad 1\n",
    "    enfermedades[nueva_enfermedad] = 1"
   ]
  },
  {
   "attachments": {},
   "cell_type": "markdown",
   "metadata": {
    "azdata_cell_guid": "2ceed8f4-0a9a-48ac-ba0d-d48dc319ab9f",
    "language": "python"
   },
   "source": [
    "#### **Paso 4: Imprimir el Reporte Final**\n",
    "\n",
    "1. **Objetivo:** Mostrar el número de pacientes con cada enfermedad.\n",
    "    \n",
    "2. **Instrucción:**\n",
    "    \n",
    "    - Usa un bucle `for` para recorrer la lista `lista_enfermedades`.\n",
    "    - En cada iteración, imprime la enfermedad y el número de pacientes (que está en `lista_cantidades` en la misma posición)."
   ]
  },
  {
   "cell_type": "code",
   "execution_count": 148,
   "metadata": {
    "azdata_cell_guid": "5368c6bd-5224-4c6f-a5ad-ef6767750039",
    "language": "python"
   },
   "outputs": [
    {
     "name": "stdout",
     "output_type": "stream",
     "text": [
      "Reporte de enfermedades tratadas:\n",
      "A continuación se muestra la tabla actualizada de la cantidad de pacientes atendidos, en la clínica, y su respectiva enfermedad.\n",
      "\n",
      "Tabla actualizada de enfermedades y cantidades respecto a la clínica corresponde a:\n",
      "------------------------------\n",
      "Enfermedad          Cantidad\n",
      "------------------------------\n",
      "gripe               6\n",
      "gastritis           5\n",
      "tos                 2\n",
      "migraña             3\n",
      "dolor               2\n",
      "diabetes            4\n",
      "asma                5\n",
      "hipotiroidismo      2\n",
      "alergias            3\n",
      "presión alta        4\n",
      "dolor de espalda    2\n",
      "ansiedad            2\n",
      "------------------------------\n",
      "\n",
      " **** Fin del reporte ***\n"
     ]
    }
   ],
   "source": [
    "print(\"Reporte de enfermedades tratadas:\")\n",
    "print('A continuación se muestra la tabla actualizada de la cantidad de pacientes atendidos, en la clínica, y su respectiva enfermedad.')\n",
    "# Imprimir la tabla actualizada de enfermedades y cantidades\n",
    "print(\"\\nTabla actualizada de enfermedades y cantidades respecto a la clínica corresponde a:\")\n",
    "print(\"-\" * 30)  # Línea divisoria\n",
    "print(f\"{'Enfermedad':<20}{'Cantidad'}\")  # Títulos de las columnas\n",
    "print(\"-\" * 30)  # Línea divisoria\n",
    "for enfermedad, cantidad in enfermedades.items():\n",
    "    print(f\"{enfermedad:<20}{cantidad}\")\n",
    "print(\"-\" * 30)  # Línea divisoria\n",
    "print('\\n **** Fin del reporte ***')"
   ]
  },
  {
   "attachments": {},
   "cell_type": "markdown",
   "metadata": {
    "azdata_cell_guid": "02262547-dabe-40b9-9ef0-5863dcad648b",
    "language": "python"
   },
   "source": [
    "### **Resumen Completo del Código**\n",
    "\n",
    "En ésta celda resume el código completo que debería tener al final para la solución del ejercicio:"
   ]
  },
  {
   "cell_type": "code",
   "execution_count": 149,
   "metadata": {
    "azdata_cell_guid": "fb7ea25e-c906-4f7e-9265-dd63d3193b54",
    "language": "python"
   },
   "outputs": [
    {
     "name": "stdout",
     "output_type": "stream",
     "text": [
      "La enfermedad no está en la lista pero será agregada.\n",
      "\n",
      "Se informa que covid ya fue agregada, con éxito, a la lista de pacientes atendidos.\n",
      "\n",
      "A continuación se muestra el reporte de enfermedades tratadas, en la tabla actualizada que presenta la cantidad de pacientes atendidos, en la clínica, y su respectiva enfermedad.\n",
      "\n",
      "Tabla actualizada de enfermedades y cantidades respecto a la clínica corresponde a:\n",
      "------------------------------\n",
      "Enfermedad          Cantidad\n",
      "------------------------------\n",
      "gripe               6\n",
      "gastritis           5\n",
      "tos                 2\n",
      "migraña             3\n",
      "dolor               2\n",
      "diabetes            4\n",
      "asma                5\n",
      "hipotiroidismo      2\n",
      "alergias            3\n",
      "presión alta        4\n",
      "dolor de espalda    2\n",
      "ansiedad            2\n",
      "covid               1\n",
      "------------------------------\n",
      "\n",
      " **** Fin del reporte ***\n"
     ]
    }
   ],
   "source": [
    "#Esta parte puedes colocar todos los bloques de las celdas anteriores \n",
    "import pandas as pd\n",
    "# Pista: Usa 'if' para verificar si la enfermedad ya está en lista_enfermedades.\n",
    "enfermedades = lista_cantidades\n",
    "# Solicitar al usuario que ingrese una nueva enfermedad\n",
    "nueva_enfermedad = input(\"Ingresa el nombre de una enfermedad: \")\n",
    "\n",
    "# Verificar si la enfermedad ya está en la lista\n",
    "if nueva_enfermedad in enfermedades:\n",
    "    print('La enfermedad ya está en la lista, por lo que se aumentó en uno la cantidad de pacientes atendidos.\\n')\n",
    "    # Si está, aumentamos la cantidad en 1\n",
    "    enfermedades[nueva_enfermedad] += 1\n",
    "else:\n",
    "    print('La enfermedad no está en la lista pero será agregada.\\n')\n",
    "    print(f'Se informa que {nueva_enfermedad} ya fue agregada, con éxito, a la lista de pacientes atendidos.\\n')\n",
    "    # Si no está, la agregamos con cantidad 1\n",
    "    enfermedades[nueva_enfermedad] = 1\n",
    "\n",
    "print('A continuación se muestra el reporte de enfermedades tratadas, en la tabla actualizada que presenta la cantidad de pacientes atendidos, en la clínica, y su respectiva enfermedad.')\n",
    "# Imprimir la tabla actualizada de enfermedades y cantidades\n",
    "print(\"\\nTabla actualizada de enfermedades y cantidades respecto a la clínica corresponde a:\")\n",
    "print(\"-\" * 30)  # Línea divisoria\n",
    "print(f\"{'Enfermedad':<20}{'Cantidad'}\")  # Títulos de las columnas\n",
    "print(\"-\" * 30)  # Línea divisoria\n",
    "for enfermedad, cantidad in enfermedades.items():\n",
    "    print(f\"{enfermedad:<20}{cantidad}\")\n",
    "print(\"-\" * 30)  # Línea divisoria\n",
    "print('\\n **** Fin del reporte ***')"
   ]
  },
  {
   "attachments": {},
   "cell_type": "markdown",
   "metadata": {
    "azdata_cell_guid": "babcfd28-f173-4adb-b593-c5cf58370bc0",
    "language": "python"
   },
   "source": [
    "## Desafío 2: Exploración Tecnológica - Reporte de Medicamentos Recetados\n",
    "\n",
    "Ahora que ya tienes el reporte de las enfermedades tratadas, es momento de explorar qué medicamentos se están recetando en la clínica. Tu tarea es generar un reporte similar al anterior, pero esta vez debes contar cuántos pacientes han recibido cada medicamento.\n",
    "\n",
    "### Instrucciones:\n",
    "\n",
    "1. Almacena los medicamentos recetados en una lista.\n",
    "2. Recorre los datos y cuenta cuántos pacientes han recibido cada medicamento.\n",
    "3. Visualiza los resultados de manera creativa.\n",
    "\n",
    "### Preguntas:\n",
    "\n",
    "- ¿Qué medicamentos son los más recetados?\n",
    "    * De acuerdo con los resultados obtenidos en medicamento que más se ha recetado es **acetaminofen** esto está relacionado con los casos de gripe. Además, por el asma se ha rectado **salbutamol**.\n",
    "- ¿Cómo podrías optimizar el uso de medicamentos en la clínica?\n",
    "    * Se debe revisar cuáles y cuántos se estpan enviando con el fin de valorar según los datos si son necesarios, dado que podrían estar enviándose algunos que no se requieran y se pueden vencer. Valorar si en otra clínica se requieren para hacer el cambio de cantidades enviadas.\n",
    "\n",
    "Resultados esperados: \n",
    "\n",
    "```\n",
    "Reporte de medicamentos recetados:\n",
    "acetaminofen: 9 pacientes\n",
    "antiácido: 2 pacientes\n",
    "jarabe: 2 pacientes\n",
    "insulina: 3 pacientes\n",
    "salbutamol: 4 pacientes\n",
    "levotiroxina: 2 pacientes\n",
    "............................................\n",
    "\n",
    "```"
   ]
  },
  {
   "cell_type": "code",
   "execution_count": 156,
   "metadata": {
    "azdata_cell_guid": "85051147-a5a3-40e9-a423-179ac721be03",
    "language": "python"
   },
   "outputs": [
    {
     "name": "stdout",
     "output_type": "stream",
     "text": [
      "\n",
      "Actualmente, a los pacientes de la clínica se han recetado 19 medicamentos distintos.\n",
      "\n",
      "El reporte de lista de medicamento según cantidad de pacientes se muestra a continuación:\n",
      "\n",
      "Nota: los puse a imprimirse uno por uno solo y con duración de 0.3 de segundo para probar el comando pero en la vida real no tiene sentido en una lista muy grande\n",
      "___________________________________________________________\n",
      "\n",
      "El medicamento acetaminofen se le ha recetado a 9 pacientes.\n",
      "El medicamento antiácido se le ha recetado a 2 pacientes.\n",
      "El medicamento jarabe se le ha recetado a 2 pacientes.\n",
      "El medicamento insulina se le ha recetado a 3 pacientes.\n",
      "El medicamento salbutamol se le ha recetado a 4 pacientes.\n",
      "El medicamento levotiroxina se le ha recetado a 2 pacientes.\n",
      "El medicamento loratadina se le ha recetado a 2 pacientes.\n",
      "El medicamento amlodipino se le ha recetado a 2 pacientes.\n",
      "El medicamento ibuprofeno se le ha recetado a 2 pacientes.\n",
      "El medicamento clonazepam se le ha recetado a 1 pacientes.\n",
      "El medicamento cetirizina se le ha recetado a 1 pacientes.\n",
      "El medicamento omeprazol se le ha recetado a 2 pacientes.\n",
      "El medicamento losartán se le ha recetado a 1 pacientes.\n",
      "El medicamento paracetamol se le ha recetado a 1 pacientes.\n",
      "El medicamento diazepam se le ha recetado a 1 pacientes.\n",
      "El medicamento metformina se le ha recetado a 1 pacientes.\n",
      "El medicamento fluticasona se le ha recetado a 1 pacientes.\n",
      "El medicamento pantoprazol se le ha recetado a 1 pacientes.\n",
      "El medicamento enalapril se le ha recetado a 1 pacientes.\n",
      "____________________________________________________________\n",
      "\n",
      "**********¡Fin del reporte!**********\n"
     ]
    }
   ],
   "source": [
    "# Listas para almacenar los medicamentos y sus frecuencias\n",
    "import time\n",
    "import pandas as pd\n",
    "\n",
    "medicamento = []\n",
    "medicamento = [item[5] for item in datos]\n",
    "\n",
    "# Comando para contar la cantidades\n",
    "lista_cantidades = {}\n",
    "for item in medicamento:\n",
    "    if item in lista_cantidades:\n",
    "        lista_cantidades[item] += 1\n",
    "    else:\n",
    "        lista_cantidades[item] = 1\n",
    "\n",
    "#Hacemos el ciclo para unirlos y se brindad el reporte\n",
    "x = len(lista_cantidades)\n",
    "print(f'\\nActualmente, a los pacientes de la clínica se han recetado {x} medicamentos distintos.\\n')\n",
    "print('El reporte de lista de medicamento según cantidad de pacientes se muestra a continuación:\\n')\n",
    "print('Nota: los puse a imprimirse uno por uno solo y con duración de 0.3 de segundo para probar el comando pero en la vida real no tiene sentido en una lista muy grande')\n",
    "print('___________________________________________________________\\n')\n",
    "for medicamento, cantidad in lista_cantidades.items():\n",
    "    print(f'El medicamento {medicamento} se le ha recetado a {cantidad} pacientes.')\n",
    "    time.sleep(0.3)  # Esperar 0.5 segundo antes de imprimir la siguiente línea. Esto es solo para el ejercicios pero en la vidad real no es práctico\n",
    "print('____________________________________________________________\\n')\n",
    "\n",
    "print('**********¡Fin del reporte!**********')"
   ]
  },
  {
   "attachments": {},
   "cell_type": "markdown",
   "metadata": {
    "azdata_cell_guid": "e75d82f8-c903-459c-b6b4-3cdc9d23ac5c"
   },
   "source": [
    "## Desafío 3: Ingeniería - Comparar Pacientes por Identificación\n",
    "\n",
    "Este desafío te permitirá comparar dos pacientes de la clínica en base a sus identificaciones. Tu objetivo es averiguar:\n",
    "\n",
    "1. **¿Qué enfermedades tienen en común?**\n",
    "2. **¿Qué medicamentos toman en común?**\n",
    "\n",
    "### Instrucciones:\n",
    "\n",
    "1. Solicita dos identificaciones de pacientes al usuario.\n",
    "2. Extrae las enfermedades y medicamentos de esos dos pacientes.\n",
    "3. Compara las enfermedades y medicamentos y muestra los resultados.\n",
    "\n",
    "### Preguntas:\n",
    "\n",
    "- ¿Qué enfermedades y medicamentos son comunes en los pacientes comparados?\n",
    "- ¿Qué información adicional podrías incluir para mejorar esta comparación?\n",
    "    * R/ Se podría mostrar si viven en el mismo cantón, así se podría valorar que podría estar causando la enfermedad atendida.\n"
   ]
  },
  {
   "cell_type": "code",
   "execution_count": 161,
   "metadata": {
    "azdata_cell_guid": "26417c6c-aa5d-41a9-b7c7-fa268a476a6d",
    "language": "python",
    "tags": []
   },
   "outputs": [
    {
     "name": "stdout",
     "output_type": "stream",
     "text": [
      "Observación: se imprime la lista de cédulas para copiarlas y pegarlas en el input.\n",
      "\n",
      "['116640019', '603240305', '503980535', '702370234', '116310912', '604830325', '116130052', '111860150', '110283', '503810832', '114740407', '205750691', '215487963', '318540762', '457821904', '602948176', '703219485', '825613092', '908124753', '103927564', '200145879', '305946278', '412598764', '507812394', '602938574', '715498372', '823654091', '912475683', '104598273', '205963184', '301456897', '401598723', '510298374', '621095837', '732145609', '802149357', '913256748', '102548397', '204985763']\n",
      "\n",
      "------------------------------------------------------------------------\n",
      "**********¡Inicio del reporte!**********\n",
      "Los pacientes con cédula 116640019 y 116310912 no tienen ninguna enfermedad en común.\n",
      "\n",
      "El o los medicamento(s) en común entre los pacientes con cédula 116640019 y 116310912 es (son): acetaminofen.\n",
      "\n",
      "Los pacientes no viven en el mismo cantón.\n",
      "\n",
      "**********¡Fin del reporte!**********\n",
      "------------------------------------------------------------------------\n"
     ]
    }
   ],
   "source": [
    "# Traigo las listas de datos\n",
    "cedula = [item[0] for item in datos]\n",
    "# imprimo la lsita para tener datos para probar\n",
    "print('Observación: se imprime la lista de cédulas para copiarlas y pegarlas en el input.\\n')\n",
    "print(f'{cedula}\\n')\n",
    "\n",
    "canton = [item[3] for item in datos]\n",
    "enfermedad = [item[4] for item in datos]\n",
    "medicamento = [item[5] for item in datos]\n",
    "\n",
    "\n",
    "#Pido las identificaciones de los dos pacientes\n",
    "#identificacion_1 = int(input('Ingrese el numéro de identificación del paciente 1'))\n",
    "identificacion_1 = input(\"Engrese el número de cédula del primer paciente a comparar:\")\n",
    "\n",
    "#identificacion_2 = int(input('Ingrese el numéro de identificación del paciente 2'))\n",
    "identificacion_2 = input(\"Engrese el número de cédula del segundo paciente a comparar:\")\n",
    "\n",
    "#Busco cada paciente en la base de datos y me traigo la posición\n",
    "try:\n",
    "    posicion1 = cedula.index(identificacion_1)\n",
    "except ValueError:\n",
    "    print(f\"El paciente con cédula número {identificacion_1} no está en la lista.\\n\")\n",
    "\n",
    "try:\n",
    "    posicion2 = cedula.index(identificacion_2)\n",
    "except ValueError:\n",
    "    print(f\"El paciente con cédula número {identificacion_2} no está en la lista.\\n\")\n",
    "print('------------------------------------------------------------------------')\n",
    "print('**********¡Inicio del reporte!**********')\n",
    "#Comparo las entradas de enfermedades\n",
    "if enfermedad[posicion1] == enfermedad[posicion2]:\n",
    "    print(f'La(s) enfermedad(es) en común entre los pacientes con cédula {identificacion_1} y {identificacion_2} es (son): {enfermedad[posicion1]}.\\n')\n",
    "else:\n",
    "     print(f'Los pacientes con cédula {identificacion_1} y {identificacion_2} no tienen ninguna enfermedad en común.\\n')\n",
    "    \n",
    "if medicamento[posicion1] == medicamento[posicion2]:\n",
    "    print(f'El o los medicamento(s) en común entre los pacientes con cédula {identificacion_1} y {identificacion_2} es (son): {medicamento[posicion1]}.\\n')\n",
    "else:\n",
    "     print(f'Los pacientes con cédula {identificacion_1} y {identificacion_2} no tienen ningún medicamento en común.\\n')\n",
    "     \n",
    "if canton[posicion1] == canton[posicion2]:\n",
    "    print(f'Ambos pacientes viveen en el cantón de {canton[posicion1]}.\\n')\n",
    "else:\n",
    "     print(f'Los pacientes no viven en el mismo cantón.\\n')\n",
    "     \n",
    "print('**********¡Fin del reporte!**********')\n",
    "print('------------------------------------------------------------------------')"
   ]
  },
  {
   "attachments": {},
   "cell_type": "markdown",
   "metadata": {
    "azdata_cell_guid": "ac71941a-8e0d-4ea1-98ff-b293ecd8defb",
    "language": "python"
   },
   "source": [
    "## Desafío Final: Arte y Matemáticas - Visualización Creativa y Reflexión\n",
    "\n",
    "Has llegado al último desafío, ¡felicidades! Ahora es momento de presentar tus resultados de una forma creativa. Tu tarea será utilizar **gráficos**, **tablas** o incluso **arte digital** para mostrar tus descubrimientos sobre los datos de los pacientes de la clínica."
   ]
  },
  {
   "cell_type": "markdown",
   "metadata": {},
   "source": [
    "## Tabla de enfermedades y cantidad de pacientes"
   ]
  },
  {
   "cell_type": "code",
   "execution_count": null,
   "metadata": {},
   "outputs": [
    {
     "name": "stdout",
     "output_type": "stream",
     "text": [
      "----------------------------------------\n",
      "\n",
      "En la siguiente tabla se muestra el tipo de enfermedad padecido por los pacientes que asisten a la clínica y la cantidad que la padecen.\n",
      "Tabla 1.\n",
      "+------------------+------------+\n",
      "| Enfermedad       |   Cantidad |\n",
      "+==================+============+\n",
      "| gripe            |          5 |\n",
      "+------------------+------------+\n",
      "| gastritis        |          5 |\n",
      "+------------------+------------+\n",
      "| tos              |          2 |\n",
      "+------------------+------------+\n",
      "| migraña          |          3 |\n",
      "+------------------+------------+\n",
      "| dolor            |          2 |\n",
      "+------------------+------------+\n",
      "| diabetes         |          4 |\n",
      "+------------------+------------+\n",
      "| asma             |          5 |\n",
      "+------------------+------------+\n",
      "| hipotiroidismo   |          2 |\n",
      "+------------------+------------+\n",
      "| alergias         |          3 |\n",
      "+------------------+------------+\n",
      "| presión alta     |          4 |\n",
      "+------------------+------------+\n",
      "| dolor de espalda |          2 |\n",
      "+------------------+------------+\n",
      "| ansiedad         |          2 |\n",
      "+------------------+------------+\n",
      "----------------------------------------\n",
      "\n"
     ]
    }
   ],
   "source": [
    "# Lista para almacenar las enfermedades y sus cantidades\n",
    "import pandas as pd\n",
    "\n",
    "lista_enfermedades = []\n",
    "\n",
    "lista_enfermedades = [item[4] for item in datos]\n",
    "\n",
    "# Comando para contar la cantidades\n",
    "lista_cantidades = {}\n",
    "for item in lista_enfermedades:\n",
    "    if item in lista_cantidades:\n",
    "        lista_cantidades[item] += 1\n",
    "    else:\n",
    "        lista_cantidades[item] = 1\n",
    "\n",
    "# Imprimir como tabla\n",
    "tabla = pd.DataFrame(list(lista_cantidades.items()), columns=[\"Enfermedad\", \"Cantidad\"])\n",
    "print(\"----------------------------------------\\n\")\n",
    "print(\"En la siguiente tabla se muestra el tipo de enfermedad padecido por los pacientes que asisten a la clínica y la cantidad que la padecen.\")\n",
    "print('Tabla 1.')\n",
    "print(tabulate(tabla, headers='keys', tablefmt='grid', showindex=False))\n",
    "print(\"----------------------------------------\\n\")\n",
    "print(\"----------------------------------------\\n\")"
   ]
  },
  {
   "cell_type": "markdown",
   "metadata": {},
   "source": [
    "### Preguntas:\n",
    "\n",
    "- ¿Qué patrones encontraste en los datos?\n",
    "\n",
    "    Al realizar una interpretación de la **tabla 1** anterior que relaciona el tipo de enfermedad con la cantidad de pacientes se tiene que: \n",
    "    * Las enfermedades que más se atienden en la clínica son: **la gripe, el asma y la gastritis**.\n",
    "    * Se debe dar seguimiento a las personas con **asma**.\n",
    "    * Hay dos enfermedades que se deben analizar a fondo: **la diabetes y la presión alta**. Dar seguimiento de control a los pacientes dado que son las segundas en orden de incidencia.\n",
    "\n",
    "- ¿Cómo podrías usar estos análisis para mejorar la atención de los pacientes?\n",
    "    * Gererar lista con pacientes que requieren controles o seguimientos. Por ejemplo, los que padecen: asma, gastritis, diabetes y presión alta. Así como asignar citas de control. \n",
    "    * Determinar que otro especilista podría requerirse en la clínica, por ejemplo dado que hay varias personas que padecen de gastritis contratar a un gastroenterólogo.\n",
    "    * Determinar que tipo de medicamento se requierá más en la clínica y no llevar aquellos que con menos recetados. Así se podrían enviar a otra clínica que sí se receten."
   ]
  },
  {
   "cell_type": "markdown",
   "metadata": {},
   "source": [
    "## Gráfico de cantidad de personas que han recibido determinado medicamento.\n",
    "\n",
    "Ahora se realizará un análisis a partir de siguiente **gráfico 1** que relaciona la cantidad de pacientes que han recibido determinado medicamento."
   ]
  },
  {
   "cell_type": "code",
   "execution_count": 162,
   "metadata": {},
   "outputs": [
    {
     "name": "stdout",
     "output_type": "stream",
     "text": [
      "En el siguiente gráfico se muestra la cantidad de pacientes que han recibido determinado medicamento.\n",
      "Gráfico 1\n"
     ]
    },
    {
     "data": {
      "image/png": "[encoded data removed]",
      "text/plain": [
       "<Figure size 2100x1000 with 1 Axes>"
      ]
     },
     "metadata": {},
     "output_type": "display_data"
    }
   ],
   "source": [
    "# Datos de ejemplo\n",
    "import pandas as pd\n",
    "import matplotlib.pyplot as plt\n",
    "\n",
    "medicamento = []\n",
    "\n",
    "medicamento = [item[5] for item in datos]\n",
    "\n",
    "# Comando para contar la cantidades\n",
    "lista_cantidades = {}\n",
    "for item in medicamento:\n",
    "    if item in lista_cantidades:\n",
    "        lista_cantidades[item] += 1\n",
    "    else:\n",
    "        lista_cantidades[item] = 1\n",
    "\n",
    "# Imprimir como tabla\n",
    "tabla = pd.DataFrame(list(lista_cantidades.items()), columns=[\"Medicamento\", \"Cantidad\"])\n",
    "\n",
    "# Crear el gráfico de barras horizontales\n",
    "plt.figure(figsize=(21, 10))  # Tamaño del gráfico\n",
    "plt.bar(tabla[\"Medicamento\"], tabla[\"Cantidad\"], color='green')\n",
    "\n",
    "# Añadir título y etiquetas\n",
    "plt.title('Cantidad de pacientes que han recibido determinado medicamento')\n",
    "plt.xlabel('Medicamento')\n",
    "plt.ylabel('Cantidad de pacientes')\n",
    "\n",
    "# Mostrar el gráfico\n",
    "print(\"En el siguiente gráfico se muestra la cantidad de pacientes que han recibido determinado medicamento.\")\n",
    "print('Gráfico 1')\n",
    "plt.tight_layout()  # Ajustar el diseño para que no se corten las etiquetas\n",
    "plt.show()\n"
   ]
  },
  {
   "cell_type": "markdown",
   "metadata": {},
   "source": [
    "### Preguntas:\n",
    "\n",
    "- ¿Qué patrones encontraste en los datos?\n",
    "\n",
    "    Al realizar una interpretación del **Gráfico 1** anterior que relaciona la cantidad de pacientes que han recibido determinado medicamento: \n",
    "    * El medicamento que más se receta es la acetaminofén seguido por la salbutamol.\n",
    "    * Es probable que en esa clínica exista un cuadro viral por gripe.\n",
    "    * Valorar que aspectos podrían incidir para que las pesonas que van a clínica les de gastritis.\n",
    "    * Dar seguimieto a los pacientes con: diabetes, asma y presión alta.\n",
    "\n",
    "- ¿Cómo podrías usar estos análisis para mejorar la atención de los pacientes?\n",
    "    * Se debe comprar y llevar más acetaminofen a la clínica.\n",
    "    * Dar seguimiento a los medicamentos de menos demanada dado que se podrían vencer si se envía a esa clínica."
   ]
  }
 ],
 "metadata": {
  "kernelspec": {
   "display_name": "Python 3",
   "language": "python",
   "name": "python3"
  },
  "language_info": {
   "codemirror_mode": {
    "name": "ipython",
    "version": 3
   },
   "file_extension": ".py",
   "mimetype": "text/x-python",
   "name": "python",
   "nbconvert_exporter": "python",
   "pygments_lexer": "ipython3",
   "version": "3.13.1"
  }
 },
 "nbformat": 4,
 "nbformat_minor": 2
}
